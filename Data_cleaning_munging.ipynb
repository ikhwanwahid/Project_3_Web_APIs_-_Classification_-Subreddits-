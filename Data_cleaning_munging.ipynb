{
 "cells": [
  {
   "cell_type": "markdown",
   "metadata": {},
   "source": [
    "\n",
    "\n",
    "\n",
    "\n",
    "### Contents:\n",
    "- [Importing the Relevant Libraries](#Importing-the-Relevant-Libraries)\n",
    "- [Loading the Data](#Loading-the-Data)\n",
    "- [EDA](#EDA)\n"
   ]
  },
  {
   "cell_type": "markdown",
   "metadata": {},
   "source": [
    "## Importing the Relevant Libraries"
   ]
  },
  {
   "cell_type": "code",
   "execution_count": 2,
   "metadata": {},
   "outputs": [],
   "source": [
    "import numpy as np\n",
    "import matplotlib.pyplot as plt\n",
    "\n",
    "from wordcloud import WordCloud, STOPWORDS\n",
    "\n",
    "import pandas as pd\n",
    "import numpy as np\n",
    "import seaborn as sns\n",
    "import matplotlib.pyplot as plt\n",
    "\n",
    "from sklearn.feature_extraction.text import CountVectorizer\n",
    "from sklearn.pipeline import Pipeline\n",
    "from sklearn.naive_bayes import MultinomialNB\n",
    "from sklearn.model_selection import train_test_split, GridSearchCV\n",
    "\n",
    "import warnings\n",
    "warnings.simplefilter(action='ignore')\n",
    "\n",
    "%matplotlib inline"
   ]
  },
  {
   "cell_type": "markdown",
   "metadata": {},
   "source": [
    "## Loading the Data"
   ]
  },
  {
   "cell_type": "code",
   "execution_count": 3,
   "metadata": {},
   "outputs": [],
   "source": [
    "reddit_posts_df = pd.read_csv('./datasets/combined.csv').drop(columns='subreddit')"
   ]
  },
  {
   "cell_type": "code",
   "execution_count": 3,
   "metadata": {},
   "outputs": [
    {
     "data": {
      "text/plain": [
       "(1251, 3)"
      ]
     },
     "execution_count": 3,
     "metadata": {},
     "output_type": "execute_result"
    }
   ],
   "source": [
    "reddit_posts_df.shape"
   ]
  },
  {
   "cell_type": "code",
   "execution_count": 4,
   "metadata": {},
   "outputs": [
    {
     "data": {
      "text/html": [
       "<div>\n",
       "<style scoped>\n",
       "    .dataframe tbody tr th:only-of-type {\n",
       "        vertical-align: middle;\n",
       "    }\n",
       "\n",
       "    .dataframe tbody tr th {\n",
       "        vertical-align: top;\n",
       "    }\n",
       "\n",
       "    .dataframe thead th {\n",
       "        text-align: right;\n",
       "    }\n",
       "</style>\n",
       "<table border=\"1\" class=\"dataframe\">\n",
       "  <thead>\n",
       "    <tr style=\"text-align: right;\">\n",
       "      <th></th>\n",
       "      <th>text</th>\n",
       "      <th>title</th>\n",
       "      <th>target</th>\n",
       "    </tr>\n",
       "  </thead>\n",
       "  <tbody>\n",
       "    <tr>\n",
       "      <th>0</th>\n",
       "      <td>Since 2015, using NASA hardware, scientists an...</td>\n",
       "      <td>AskScience AMA Series: We are experts on NASA'...</td>\n",
       "      <td>1</td>\n",
       "    </tr>\n",
       "    <tr>\n",
       "      <th>1</th>\n",
       "      <td>NaN</td>\n",
       "      <td>Do ants that get lost(accidentally get on my b...</td>\n",
       "      <td>1</td>\n",
       "    </tr>\n",
       "    <tr>\n",
       "      <th>2</th>\n",
       "      <td>NaN</td>\n",
       "      <td>What part of your brain gets activated when yo...</td>\n",
       "      <td>1</td>\n",
       "    </tr>\n",
       "    <tr>\n",
       "      <th>3</th>\n",
       "      <td>Wouldn't a pointed bow cut through the water b...</td>\n",
       "      <td>Why aren't the bows of submarines pointy??</td>\n",
       "      <td>1</td>\n",
       "    </tr>\n",
       "    <tr>\n",
       "      <th>4</th>\n",
       "      <td>I am always confused be centrifugal and centri...</td>\n",
       "      <td>Do you weigh less at the equator because of ce...</td>\n",
       "      <td>1</td>\n",
       "    </tr>\n",
       "    <tr>\n",
       "      <th>...</th>\n",
       "      <td>...</td>\n",
       "      <td>...</td>\n",
       "      <td>...</td>\n",
       "    </tr>\n",
       "    <tr>\n",
       "      <th>1246</th>\n",
       "      <td>\\n\\nMy grandfather was always playing pranks ...</td>\n",
       "      <td>My grandfather was always playing pranks on pe...</td>\n",
       "      <td>0</td>\n",
       "    </tr>\n",
       "    <tr>\n",
       "      <th>1247</th>\n",
       "      <td>Nazi Officer: \"Sir, we are mining too many use...</td>\n",
       "      <td>I did Nazi that coming</td>\n",
       "      <td>0</td>\n",
       "    </tr>\n",
       "    <tr>\n",
       "      <th>1248</th>\n",
       "      <td>Because of Gallium and Yttrium.</td>\n",
       "      <td>[OC] Why was the gay scientist gay?</td>\n",
       "      <td>0</td>\n",
       "    </tr>\n",
       "    <tr>\n",
       "      <th>1249</th>\n",
       "      <td>Children of Vegans, children of Anti-Vaxxers. ...</td>\n",
       "      <td>The three big that never get old:</td>\n",
       "      <td>0</td>\n",
       "    </tr>\n",
       "    <tr>\n",
       "      <th>1250</th>\n",
       "      <td>You tell him to break a leg.</td>\n",
       "      <td>How do you go from an actor to a cast?</td>\n",
       "      <td>0</td>\n",
       "    </tr>\n",
       "  </tbody>\n",
       "</table>\n",
       "<p>1251 rows × 3 columns</p>\n",
       "</div>"
      ],
      "text/plain": [
       "                                                   text  \\\n",
       "0     Since 2015, using NASA hardware, scientists an...   \n",
       "1                                                   NaN   \n",
       "2                                                   NaN   \n",
       "3     Wouldn't a pointed bow cut through the water b...   \n",
       "4     I am always confused be centrifugal and centri...   \n",
       "...                                                 ...   \n",
       "1246   \\n\\nMy grandfather was always playing pranks ...   \n",
       "1247  Nazi Officer: \"Sir, we are mining too many use...   \n",
       "1248                    Because of Gallium and Yttrium.   \n",
       "1249  Children of Vegans, children of Anti-Vaxxers. ...   \n",
       "1250                       You tell him to break a leg.   \n",
       "\n",
       "                                                  title  target  \n",
       "0     AskScience AMA Series: We are experts on NASA'...       1  \n",
       "1     Do ants that get lost(accidentally get on my b...       1  \n",
       "2     What part of your brain gets activated when yo...       1  \n",
       "3            Why aren't the bows of submarines pointy??       1  \n",
       "4     Do you weigh less at the equator because of ce...       1  \n",
       "...                                                 ...     ...  \n",
       "1246  My grandfather was always playing pranks on pe...       0  \n",
       "1247                             I did Nazi that coming       0  \n",
       "1248                [OC] Why was the gay scientist gay?       0  \n",
       "1249                  The three big that never get old:       0  \n",
       "1250             How do you go from an actor to a cast?       0  \n",
       "\n",
       "[1251 rows x 3 columns]"
      ]
     },
     "execution_count": 4,
     "metadata": {},
     "output_type": "execute_result"
    }
   ],
   "source": [
    "reddit_posts_df"
   ]
  },
  {
   "cell_type": "markdown",
   "metadata": {},
   "source": [
    " ## EDA"
   ]
  },
  {
   "cell_type": "code",
   "execution_count": 5,
   "metadata": {},
   "outputs": [],
   "source": [
    "#check for duplicate posts/remove them\n",
    "#check for null values\n",
    "reddit_posts_df.drop_duplicates(keep='first', inplace=True)"
   ]
  },
  {
   "cell_type": "code",
   "execution_count": 6,
   "metadata": {},
   "outputs": [
    {
     "data": {
      "text/plain": [
       "(1251, 3)"
      ]
     },
     "execution_count": 6,
     "metadata": {},
     "output_type": "execute_result"
    }
   ],
   "source": [
    "reddit_posts_df.shape  #no duplicates spotted so thats good"
   ]
  },
  {
   "cell_type": "code",
   "execution_count": 7,
   "metadata": {
    "scrolled": true
   },
   "outputs": [
    {
     "data": {
      "text/plain": [
       "text      202\n",
       "title       0\n",
       "target      0\n",
       "dtype: int64"
      ]
     },
     "execution_count": 7,
     "metadata": {},
     "output_type": "execute_result"
    }
   ],
   "source": [
    "reddit_posts_df.isnull().sum()  #202 blank items in text, cannot drop them as we might lose vital information in title\n",
    "#a further check showed 202 of the blank texts come from the askscience\n",
    "# what i can do is remove them, and then repopulate that same amout with random samples from askscience"
   ]
  },
  {
   "cell_type": "code",
   "execution_count": 8,
   "metadata": {},
   "outputs": [],
   "source": [
    "reddit_posts_df=reddit_posts_df.dropna()"
   ]
  },
  {
   "cell_type": "code",
   "execution_count": 9,
   "metadata": {},
   "outputs": [
    {
     "data": {
      "text/plain": [
       "text      0\n",
       "title     0\n",
       "target    0\n",
       "dtype: int64"
      ]
     },
     "execution_count": 9,
     "metadata": {},
     "output_type": "execute_result"
    }
   ],
   "source": [
    "reddit_posts_df.isnull().sum() "
   ]
  },
  {
   "cell_type": "code",
   "execution_count": 10,
   "metadata": {},
   "outputs": [
    {
     "data": {
      "text/plain": [
       "0    625\n",
       "1    424\n",
       "Name: target, dtype: int64"
      ]
     },
     "execution_count": 10,
     "metadata": {},
     "output_type": "execute_result"
    }
   ],
   "source": [
    "reddit_posts_df.target.value_counts() #to see if we have balanced amount of posts from both subreddits\n",
    "#also confirming we dropped 202 rows from the askscience subreddit\n"
   ]
  },
  {
   "cell_type": "code",
   "execution_count": 11,
   "metadata": {},
   "outputs": [
    {
     "data": {
      "text/html": [
       "<div>\n",
       "<style scoped>\n",
       "    .dataframe tbody tr th:only-of-type {\n",
       "        vertical-align: middle;\n",
       "    }\n",
       "\n",
       "    .dataframe tbody tr th {\n",
       "        vertical-align: top;\n",
       "    }\n",
       "\n",
       "    .dataframe thead th {\n",
       "        text-align: right;\n",
       "    }\n",
       "</style>\n",
       "<table border=\"1\" class=\"dataframe\">\n",
       "  <thead>\n",
       "    <tr style=\"text-align: right;\">\n",
       "      <th></th>\n",
       "      <th>text</th>\n",
       "      <th>title</th>\n",
       "      <th>target</th>\n",
       "    </tr>\n",
       "  </thead>\n",
       "  <tbody>\n",
       "    <tr>\n",
       "      <th>0</th>\n",
       "      <td>Since 2015, using NASA hardware, scientists an...</td>\n",
       "      <td>AskScience AMA Series: We are experts on NASA'...</td>\n",
       "      <td>1</td>\n",
       "    </tr>\n",
       "    <tr>\n",
       "      <th>3</th>\n",
       "      <td>Wouldn't a pointed bow cut through the water b...</td>\n",
       "      <td>Why aren't the bows of submarines pointy??</td>\n",
       "      <td>1</td>\n",
       "    </tr>\n",
       "    <tr>\n",
       "      <th>4</th>\n",
       "      <td>I am always confused be centrifugal and centri...</td>\n",
       "      <td>Do you weigh less at the equator because of ce...</td>\n",
       "      <td>1</td>\n",
       "    </tr>\n",
       "    <tr>\n",
       "      <th>5</th>\n",
       "      <td>If the universe is infused with dark matter, w...</td>\n",
       "      <td>Could there possibly be black holes that forme...</td>\n",
       "      <td>1</td>\n",
       "    </tr>\n",
       "    <tr>\n",
       "      <th>6</th>\n",
       "      <td>When I, for example, hold one arm straight to ...</td>\n",
       "      <td>Does the brain send signals consistently to ke...</td>\n",
       "      <td>1</td>\n",
       "    </tr>\n",
       "    <tr>\n",
       "      <th>...</th>\n",
       "      <td>...</td>\n",
       "      <td>...</td>\n",
       "      <td>...</td>\n",
       "    </tr>\n",
       "    <tr>\n",
       "      <th>620</th>\n",
       "      <td>I shouldn’t have to wait a whole hour when my ...</td>\n",
       "      <td>Why hasn’t a cooling equivalent of the microwa...</td>\n",
       "      <td>1</td>\n",
       "    </tr>\n",
       "    <tr>\n",
       "      <th>621</th>\n",
       "      <td>Isn't temperature related to the average kinet...</td>\n",
       "      <td>How is the temperature of the interstellar gas...</td>\n",
       "      <td>1</td>\n",
       "    </tr>\n",
       "    <tr>\n",
       "      <th>622</th>\n",
       "      <td>I'm trying to visualize their trajectories in ...</td>\n",
       "      <td>Where is Voyager 2 in relation to Voyager 1, a...</td>\n",
       "      <td>1</td>\n",
       "    </tr>\n",
       "    <tr>\n",
       "      <th>623</th>\n",
       "      <td>After managing to stabilize and sustain the pl...</td>\n",
       "      <td>How do you convert a more million C degree pla...</td>\n",
       "      <td>1</td>\n",
       "    </tr>\n",
       "    <tr>\n",
       "      <th>624</th>\n",
       "      <td>Title</td>\n",
       "      <td>What is a binary galaxy and what makes them in...</td>\n",
       "      <td>1</td>\n",
       "    </tr>\n",
       "  </tbody>\n",
       "</table>\n",
       "<p>424 rows × 3 columns</p>\n",
       "</div>"
      ],
      "text/plain": [
       "                                                  text  \\\n",
       "0    Since 2015, using NASA hardware, scientists an...   \n",
       "3    Wouldn't a pointed bow cut through the water b...   \n",
       "4    I am always confused be centrifugal and centri...   \n",
       "5    If the universe is infused with dark matter, w...   \n",
       "6    When I, for example, hold one arm straight to ...   \n",
       "..                                                 ...   \n",
       "620  I shouldn’t have to wait a whole hour when my ...   \n",
       "621  Isn't temperature related to the average kinet...   \n",
       "622  I'm trying to visualize their trajectories in ...   \n",
       "623  After managing to stabilize and sustain the pl...   \n",
       "624                                              Title   \n",
       "\n",
       "                                                 title  target  \n",
       "0    AskScience AMA Series: We are experts on NASA'...       1  \n",
       "3           Why aren't the bows of submarines pointy??       1  \n",
       "4    Do you weigh less at the equator because of ce...       1  \n",
       "5    Could there possibly be black holes that forme...       1  \n",
       "6    Does the brain send signals consistently to ke...       1  \n",
       "..                                                 ...     ...  \n",
       "620  Why hasn’t a cooling equivalent of the microwa...       1  \n",
       "621  How is the temperature of the interstellar gas...       1  \n",
       "622  Where is Voyager 2 in relation to Voyager 1, a...       1  \n",
       "623  How do you convert a more million C degree pla...       1  \n",
       "624  What is a binary galaxy and what makes them in...       1  \n",
       "\n",
       "[424 rows x 3 columns]"
      ]
     },
     "execution_count": 11,
     "metadata": {},
     "output_type": "execute_result"
    }
   ],
   "source": [
    "testing=reddit_posts_df[reddit_posts_df['target']==1]\n",
    "testing"
   ]
  },
  {
   "cell_type": "code",
   "execution_count": 12,
   "metadata": {},
   "outputs": [
    {
     "data": {
      "text/plain": [
       "(424, 3)"
      ]
     },
     "execution_count": 12,
     "metadata": {},
     "output_type": "execute_result"
    }
   ],
   "source": [
    "testing.shape  #we can get 202 samples from testing sample, use 201 to make same amount as jokes"
   ]
  },
  {
   "cell_type": "code",
   "execution_count": 13,
   "metadata": {},
   "outputs": [],
   "source": [
    "import random\n",
    "random.seed(42)\n",
    "bs_sample1=testing.sample(n=201,replace=True)"
   ]
  },
  {
   "cell_type": "code",
   "execution_count": 14,
   "metadata": {},
   "outputs": [
    {
     "data": {
      "text/html": [
       "<div>\n",
       "<style scoped>\n",
       "    .dataframe tbody tr th:only-of-type {\n",
       "        vertical-align: middle;\n",
       "    }\n",
       "\n",
       "    .dataframe tbody tr th {\n",
       "        vertical-align: top;\n",
       "    }\n",
       "\n",
       "    .dataframe thead th {\n",
       "        text-align: right;\n",
       "    }\n",
       "</style>\n",
       "<table border=\"1\" class=\"dataframe\">\n",
       "  <thead>\n",
       "    <tr style=\"text-align: right;\">\n",
       "      <th></th>\n",
       "      <th>text</th>\n",
       "      <th>title</th>\n",
       "      <th>target</th>\n",
       "    </tr>\n",
       "  </thead>\n",
       "  <tbody>\n",
       "    <tr>\n",
       "      <th>312</th>\n",
       "      <td>Not sure if this got ask before, but with all ...</td>\n",
       "      <td>Why is no electric car producer considering a ...</td>\n",
       "      <td>1</td>\n",
       "    </tr>\n",
       "    <tr>\n",
       "      <th>428</th>\n",
       "      <td>Autoimmune diseases are caused by your immune ...</td>\n",
       "      <td>If Rheumatoid arthritis (or really any autoimm...</td>\n",
       "      <td>1</td>\n",
       "    </tr>\n",
       "    <tr>\n",
       "      <th>340</th>\n",
       "      <td>I’m currently traveling the Philippians with s...</td>\n",
       "      <td>What did I see in the sky last night?</td>\n",
       "      <td>1</td>\n",
       "    </tr>\n",
       "    <tr>\n",
       "      <th>588</th>\n",
       "      <td>I'm just not sure why it's down to me to unplu...</td>\n",
       "      <td>If experts can tell me I shouldn't leave my ph...</td>\n",
       "      <td>1</td>\n",
       "    </tr>\n",
       "    <tr>\n",
       "      <th>17</th>\n",
       "      <td>I'm making a social media loosely themed aroun...</td>\n",
       "      <td>Is there a classification system for biologica...</td>\n",
       "      <td>1</td>\n",
       "    </tr>\n",
       "    <tr>\n",
       "      <th>...</th>\n",
       "      <td>...</td>\n",
       "      <td>...</td>\n",
       "      <td>...</td>\n",
       "    </tr>\n",
       "    <tr>\n",
       "      <th>536</th>\n",
       "      <td>I tried to google an answer of a fairly popula...</td>\n",
       "      <td>How do services that delete your personal data...</td>\n",
       "      <td>1</td>\n",
       "    </tr>\n",
       "    <tr>\n",
       "      <th>376</th>\n",
       "      <td>I heard somewhere that at low energies superst...</td>\n",
       "      <td>Has there been any progress of pinning down th...</td>\n",
       "      <td>1</td>\n",
       "    </tr>\n",
       "    <tr>\n",
       "      <th>255</th>\n",
       "      <td>Mostly asking about mammals other than primate...</td>\n",
       "      <td>What can animals do when hair/fur gets in thei...</td>\n",
       "      <td>1</td>\n",
       "    </tr>\n",
       "    <tr>\n",
       "      <th>89</th>\n",
       "      <td>How does CRISPR technology target one specific...</td>\n",
       "      <td>How does CRISPR target specific genes?</td>\n",
       "      <td>1</td>\n",
       "    </tr>\n",
       "    <tr>\n",
       "      <th>72</th>\n",
       "      <td>Does the repressor completely block binding of...</td>\n",
       "      <td>How does the lac repressor prevent transcripti...</td>\n",
       "      <td>1</td>\n",
       "    </tr>\n",
       "  </tbody>\n",
       "</table>\n",
       "<p>201 rows × 3 columns</p>\n",
       "</div>"
      ],
      "text/plain": [
       "                                                  text  \\\n",
       "312  Not sure if this got ask before, but with all ...   \n",
       "428  Autoimmune diseases are caused by your immune ...   \n",
       "340  I’m currently traveling the Philippians with s...   \n",
       "588  I'm just not sure why it's down to me to unplu...   \n",
       "17   I'm making a social media loosely themed aroun...   \n",
       "..                                                 ...   \n",
       "536  I tried to google an answer of a fairly popula...   \n",
       "376  I heard somewhere that at low energies superst...   \n",
       "255  Mostly asking about mammals other than primate...   \n",
       "89   How does CRISPR technology target one specific...   \n",
       "72   Does the repressor completely block binding of...   \n",
       "\n",
       "                                                 title  target  \n",
       "312  Why is no electric car producer considering a ...       1  \n",
       "428  If Rheumatoid arthritis (or really any autoimm...       1  \n",
       "340              What did I see in the sky last night?       1  \n",
       "588  If experts can tell me I shouldn't leave my ph...       1  \n",
       "17   Is there a classification system for biologica...       1  \n",
       "..                                                 ...     ...  \n",
       "536  How do services that delete your personal data...       1  \n",
       "376  Has there been any progress of pinning down th...       1  \n",
       "255  What can animals do when hair/fur gets in thei...       1  \n",
       "89              How does CRISPR target specific genes?       1  \n",
       "72   How does the lac repressor prevent transcripti...       1  \n",
       "\n",
       "[201 rows x 3 columns]"
      ]
     },
     "execution_count": 14,
     "metadata": {},
     "output_type": "execute_result"
    }
   ],
   "source": [
    "bs_sample1"
   ]
  },
  {
   "cell_type": "code",
   "execution_count": 15,
   "metadata": {},
   "outputs": [],
   "source": [
    "df3=pd.concat([reddit_posts_df,bs_sample1],ignore_index=True)"
   ]
  },
  {
   "cell_type": "code",
   "execution_count": 16,
   "metadata": {},
   "outputs": [
    {
     "data": {
      "text/html": [
       "<div>\n",
       "<style scoped>\n",
       "    .dataframe tbody tr th:only-of-type {\n",
       "        vertical-align: middle;\n",
       "    }\n",
       "\n",
       "    .dataframe tbody tr th {\n",
       "        vertical-align: top;\n",
       "    }\n",
       "\n",
       "    .dataframe thead th {\n",
       "        text-align: right;\n",
       "    }\n",
       "</style>\n",
       "<table border=\"1\" class=\"dataframe\">\n",
       "  <thead>\n",
       "    <tr style=\"text-align: right;\">\n",
       "      <th></th>\n",
       "      <th>text</th>\n",
       "      <th>title</th>\n",
       "      <th>target</th>\n",
       "    </tr>\n",
       "  </thead>\n",
       "  <tbody>\n",
       "    <tr>\n",
       "      <th>0</th>\n",
       "      <td>Since 2015, using NASA hardware, scientists an...</td>\n",
       "      <td>AskScience AMA Series: We are experts on NASA'...</td>\n",
       "      <td>1</td>\n",
       "    </tr>\n",
       "    <tr>\n",
       "      <th>1</th>\n",
       "      <td>Wouldn't a pointed bow cut through the water b...</td>\n",
       "      <td>Why aren't the bows of submarines pointy??</td>\n",
       "      <td>1</td>\n",
       "    </tr>\n",
       "    <tr>\n",
       "      <th>2</th>\n",
       "      <td>I am always confused be centrifugal and centri...</td>\n",
       "      <td>Do you weigh less at the equator because of ce...</td>\n",
       "      <td>1</td>\n",
       "    </tr>\n",
       "    <tr>\n",
       "      <th>3</th>\n",
       "      <td>If the universe is infused with dark matter, w...</td>\n",
       "      <td>Could there possibly be black holes that forme...</td>\n",
       "      <td>1</td>\n",
       "    </tr>\n",
       "    <tr>\n",
       "      <th>4</th>\n",
       "      <td>When I, for example, hold one arm straight to ...</td>\n",
       "      <td>Does the brain send signals consistently to ke...</td>\n",
       "      <td>1</td>\n",
       "    </tr>\n",
       "    <tr>\n",
       "      <th>...</th>\n",
       "      <td>...</td>\n",
       "      <td>...</td>\n",
       "      <td>...</td>\n",
       "    </tr>\n",
       "    <tr>\n",
       "      <th>1245</th>\n",
       "      <td>I tried to google an answer of a fairly popula...</td>\n",
       "      <td>How do services that delete your personal data...</td>\n",
       "      <td>1</td>\n",
       "    </tr>\n",
       "    <tr>\n",
       "      <th>1246</th>\n",
       "      <td>I heard somewhere that at low energies superst...</td>\n",
       "      <td>Has there been any progress of pinning down th...</td>\n",
       "      <td>1</td>\n",
       "    </tr>\n",
       "    <tr>\n",
       "      <th>1247</th>\n",
       "      <td>Mostly asking about mammals other than primate...</td>\n",
       "      <td>What can animals do when hair/fur gets in thei...</td>\n",
       "      <td>1</td>\n",
       "    </tr>\n",
       "    <tr>\n",
       "      <th>1248</th>\n",
       "      <td>How does CRISPR technology target one specific...</td>\n",
       "      <td>How does CRISPR target specific genes?</td>\n",
       "      <td>1</td>\n",
       "    </tr>\n",
       "    <tr>\n",
       "      <th>1249</th>\n",
       "      <td>Does the repressor completely block binding of...</td>\n",
       "      <td>How does the lac repressor prevent transcripti...</td>\n",
       "      <td>1</td>\n",
       "    </tr>\n",
       "  </tbody>\n",
       "</table>\n",
       "<p>1250 rows × 3 columns</p>\n",
       "</div>"
      ],
      "text/plain": [
       "                                                   text  \\\n",
       "0     Since 2015, using NASA hardware, scientists an...   \n",
       "1     Wouldn't a pointed bow cut through the water b...   \n",
       "2     I am always confused be centrifugal and centri...   \n",
       "3     If the universe is infused with dark matter, w...   \n",
       "4     When I, for example, hold one arm straight to ...   \n",
       "...                                                 ...   \n",
       "1245  I tried to google an answer of a fairly popula...   \n",
       "1246  I heard somewhere that at low energies superst...   \n",
       "1247  Mostly asking about mammals other than primate...   \n",
       "1248  How does CRISPR technology target one specific...   \n",
       "1249  Does the repressor completely block binding of...   \n",
       "\n",
       "                                                  title  target  \n",
       "0     AskScience AMA Series: We are experts on NASA'...       1  \n",
       "1            Why aren't the bows of submarines pointy??       1  \n",
       "2     Do you weigh less at the equator because of ce...       1  \n",
       "3     Could there possibly be black holes that forme...       1  \n",
       "4     Does the brain send signals consistently to ke...       1  \n",
       "...                                                 ...     ...  \n",
       "1245  How do services that delete your personal data...       1  \n",
       "1246  Has there been any progress of pinning down th...       1  \n",
       "1247  What can animals do when hair/fur gets in thei...       1  \n",
       "1248             How does CRISPR target specific genes?       1  \n",
       "1249  How does the lac repressor prevent transcripti...       1  \n",
       "\n",
       "[1250 rows x 3 columns]"
      ]
     },
     "execution_count": 16,
     "metadata": {},
     "output_type": "execute_result"
    }
   ],
   "source": [
    "df3"
   ]
  },
  {
   "cell_type": "code",
   "execution_count": 17,
   "metadata": {},
   "outputs": [
    {
     "data": {
      "text/plain": [
       "1    625\n",
       "0    625\n",
       "Name: target, dtype: int64"
      ]
     },
     "execution_count": 17,
     "metadata": {},
     "output_type": "execute_result"
    }
   ],
   "source": [
    "df3.target.value_counts()  #thats our inbalanced accounted for :)"
   ]
  },
  {
   "cell_type": "code",
   "execution_count": 20,
   "metadata": {},
   "outputs": [],
   "source": [
    "#lowercase everything first\n",
    "df3['text']=df3['text'].str.lower() \n",
    "df3['title']=df3['title'].str.lower()"
   ]
  },
  {
   "cell_type": "code",
   "execution_count": 23,
   "metadata": {},
   "outputs": [
    {
     "data": {
      "text/html": [
       "<div>\n",
       "<style scoped>\n",
       "    .dataframe tbody tr th:only-of-type {\n",
       "        vertical-align: middle;\n",
       "    }\n",
       "\n",
       "    .dataframe tbody tr th {\n",
       "        vertical-align: top;\n",
       "    }\n",
       "\n",
       "    .dataframe thead th {\n",
       "        text-align: right;\n",
       "    }\n",
       "</style>\n",
       "<table border=\"1\" class=\"dataframe\">\n",
       "  <thead>\n",
       "    <tr style=\"text-align: right;\">\n",
       "      <th></th>\n",
       "      <th>text</th>\n",
       "      <th>title</th>\n",
       "      <th>target</th>\n",
       "    </tr>\n",
       "  </thead>\n",
       "  <tbody>\n",
       "    <tr>\n",
       "      <th>0</th>\n",
       "      <td>since 2015, using nasa hardware, scientists an...</td>\n",
       "      <td>askscience ama series: we are experts on nasa'...</td>\n",
       "      <td>1</td>\n",
       "    </tr>\n",
       "    <tr>\n",
       "      <th>1</th>\n",
       "      <td>wouldn't a pointed bow cut through the water b...</td>\n",
       "      <td>why aren't the bows of submarines pointy??</td>\n",
       "      <td>1</td>\n",
       "    </tr>\n",
       "    <tr>\n",
       "      <th>2</th>\n",
       "      <td>i am always confused be centrifugal and centri...</td>\n",
       "      <td>do you weigh less at the equator because of ce...</td>\n",
       "      <td>1</td>\n",
       "    </tr>\n",
       "    <tr>\n",
       "      <th>3</th>\n",
       "      <td>if the universe is infused with dark matter, w...</td>\n",
       "      <td>could there possibly be black holes that forme...</td>\n",
       "      <td>1</td>\n",
       "    </tr>\n",
       "    <tr>\n",
       "      <th>4</th>\n",
       "      <td>when i, for example, hold one arm straight to ...</td>\n",
       "      <td>does the brain send signals consistently to ke...</td>\n",
       "      <td>1</td>\n",
       "    </tr>\n",
       "  </tbody>\n",
       "</table>\n",
       "</div>"
      ],
      "text/plain": [
       "                                                text  \\\n",
       "0  since 2015, using nasa hardware, scientists an...   \n",
       "1  wouldn't a pointed bow cut through the water b...   \n",
       "2  i am always confused be centrifugal and centri...   \n",
       "3  if the universe is infused with dark matter, w...   \n",
       "4  when i, for example, hold one arm straight to ...   \n",
       "\n",
       "                                               title  target  \n",
       "0  askscience ama series: we are experts on nasa'...       1  \n",
       "1         why aren't the bows of submarines pointy??       1  \n",
       "2  do you weigh less at the equator because of ce...       1  \n",
       "3  could there possibly be black holes that forme...       1  \n",
       "4  does the brain send signals consistently to ke...       1  "
      ]
     },
     "execution_count": 23,
     "metadata": {},
     "output_type": "execute_result"
    }
   ],
   "source": [
    "df3.head()"
   ]
  },
  {
   "cell_type": "code",
   "execution_count": 27,
   "metadata": {},
   "outputs": [],
   "source": [
    "df3['text'] = df3['text'].str.replace(r'[^\\w\\s]+', '')\n",
    "df3['title'] = df3['title'].str.replace(r'[^\\w\\s]+', '')\n",
    "\n",
    "#Match a single character not present in the list below [^\\w\\s]+\n",
    "#+ Quantifier — Matches between one and unlimited times, as many times as possible, giving back as needed "
   ]
  },
  {
   "cell_type": "code",
   "execution_count": 28,
   "metadata": {},
   "outputs": [
    {
     "data": {
      "text/html": [
       "<div>\n",
       "<style scoped>\n",
       "    .dataframe tbody tr th:only-of-type {\n",
       "        vertical-align: middle;\n",
       "    }\n",
       "\n",
       "    .dataframe tbody tr th {\n",
       "        vertical-align: top;\n",
       "    }\n",
       "\n",
       "    .dataframe thead th {\n",
       "        text-align: right;\n",
       "    }\n",
       "</style>\n",
       "<table border=\"1\" class=\"dataframe\">\n",
       "  <thead>\n",
       "    <tr style=\"text-align: right;\">\n",
       "      <th></th>\n",
       "      <th>text</th>\n",
       "      <th>title</th>\n",
       "      <th>target</th>\n",
       "    </tr>\n",
       "  </thead>\n",
       "  <tbody>\n",
       "    <tr>\n",
       "      <th>0</th>\n",
       "      <td>since 2015 using nasa hardware scientists and ...</td>\n",
       "      <td>askscience ama series we are experts on nasas ...</td>\n",
       "      <td>1</td>\n",
       "    </tr>\n",
       "    <tr>\n",
       "      <th>1</th>\n",
       "      <td>wouldnt a pointed bow cut through the water be...</td>\n",
       "      <td>why arent the bows of submarines pointy</td>\n",
       "      <td>1</td>\n",
       "    </tr>\n",
       "    <tr>\n",
       "      <th>2</th>\n",
       "      <td>i am always confused be centrifugal and centri...</td>\n",
       "      <td>do you weigh less at the equator because of ce...</td>\n",
       "      <td>1</td>\n",
       "    </tr>\n",
       "    <tr>\n",
       "      <th>3</th>\n",
       "      <td>if the universe is infused with dark matter wo...</td>\n",
       "      <td>could there possibly be black holes that forme...</td>\n",
       "      <td>1</td>\n",
       "    </tr>\n",
       "    <tr>\n",
       "      <th>4</th>\n",
       "      <td>when i for example hold one arm straight to th...</td>\n",
       "      <td>does the brain send signals consistently to ke...</td>\n",
       "      <td>1</td>\n",
       "    </tr>\n",
       "  </tbody>\n",
       "</table>\n",
       "</div>"
      ],
      "text/plain": [
       "                                                text  \\\n",
       "0  since 2015 using nasa hardware scientists and ...   \n",
       "1  wouldnt a pointed bow cut through the water be...   \n",
       "2  i am always confused be centrifugal and centri...   \n",
       "3  if the universe is infused with dark matter wo...   \n",
       "4  when i for example hold one arm straight to th...   \n",
       "\n",
       "                                               title  target  \n",
       "0  askscience ama series we are experts on nasas ...       1  \n",
       "1            why arent the bows of submarines pointy       1  \n",
       "2  do you weigh less at the equator because of ce...       1  \n",
       "3  could there possibly be black holes that forme...       1  \n",
       "4  does the brain send signals consistently to ke...       1  "
      ]
     },
     "execution_count": 28,
     "metadata": {},
     "output_type": "execute_result"
    }
   ],
   "source": [
    "df3.head()"
   ]
  },
  {
   "cell_type": "code",
   "execution_count": 30,
   "metadata": {},
   "outputs": [
    {
     "data": {
      "text/plain": [
       "text      0\n",
       "title     0\n",
       "target    0\n",
       "dtype: int64"
      ]
     },
     "execution_count": 30,
     "metadata": {},
     "output_type": "execute_result"
    }
   ],
   "source": [
    "df3.isnull().sum()"
   ]
  },
  {
   "cell_type": "code",
   "execution_count": 32,
   "metadata": {},
   "outputs": [],
   "source": [
    "df3.to_csv('datatobemodelled.csv', index = False)"
   ]
  },
  {
   "cell_type": "code",
   "execution_count": 33,
   "metadata": {},
   "outputs": [
    {
     "data": {
      "text/plain": [
       "(1250, 3)"
      ]
     },
     "execution_count": 33,
     "metadata": {},
     "output_type": "execute_result"
    }
   ],
   "source": [
    "df3.shape"
   ]
  },
  {
   "cell_type": "code",
   "execution_count": null,
   "metadata": {},
   "outputs": [],
   "source": []
  }
 ],
 "metadata": {
  "kernelspec": {
   "display_name": "Python 3",
   "language": "python",
   "name": "python3"
  },
  "language_info": {
   "codemirror_mode": {
    "name": "ipython",
    "version": 3
   },
   "file_extension": ".py",
   "mimetype": "text/x-python",
   "name": "python",
   "nbconvert_exporter": "python",
   "pygments_lexer": "ipython3",
   "version": "3.7.3"
  }
 },
 "nbformat": 4,
 "nbformat_minor": 2
}
