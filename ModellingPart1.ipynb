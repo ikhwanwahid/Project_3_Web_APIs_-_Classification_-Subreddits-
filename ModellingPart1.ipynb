{
 "cells": [
  {
   "cell_type": "markdown",
   "metadata": {},
   "source": [
    "### Contents:\n",
    "- [Importing the Relevant Libraries](#Importing-the-Relevant-Libraries)\n",
    "- [Final EDA](#Final-EDA)\n",
    "- [Using Count Vectorizer](#Using-Count-Vectorizer)\n",
    "- [Mode1 1: Using The NaiveBias Bernoulli](#Mode1-1:-Using-The-NaiveBias-Bernoulli)\n",
    "- [Gridsearch + BernoulliNB function](#Gridsearch-+-BernoulliNB-function)\n",
    "- [Model 2: Using The Logistic Regression](#Model-2:-Using-The-Logistic-Regression)\n",
    "- [Gridsearch + Logistic Regression function](#Gridsearch-+-Logistic-Regression-function)\n",
    "- [Reapeating Process Using TF_IVF](#Reapeating-Process-Using-TF_IVF)\n",
    "- [Findings and Conclusions](#Findings-and-Conclusions)\n"
   ]
  },
  {
   "cell_type": "code",
   "execution_count": 1,
   "metadata": {},
   "outputs": [
    {
     "name": "stdout",
     "output_type": "stream",
     "text": [
      "Requirement already satisfied: mlxtend in /Users/ikhyvicky/anaconda3/lib/python3.7/site-packages (0.17.0)\n",
      "Requirement already satisfied: joblib>=0.13.2 in /Users/ikhyvicky/anaconda3/lib/python3.7/site-packages (from mlxtend) (0.13.2)\n",
      "Requirement already satisfied: scipy>=1.2.1 in /Users/ikhyvicky/anaconda3/lib/python3.7/site-packages (from mlxtend) (1.3.0)\n",
      "Requirement already satisfied: pandas>=0.24.2 in /Users/ikhyvicky/anaconda3/lib/python3.7/site-packages (from mlxtend) (0.25.3)\n",
      "Requirement already satisfied: matplotlib>=3.0.0 in /Users/ikhyvicky/anaconda3/lib/python3.7/site-packages (from mlxtend) (3.1.1)\n",
      "Requirement already satisfied: scikit-learn>=0.20.3 in /Users/ikhyvicky/anaconda3/lib/python3.7/site-packages (from mlxtend) (0.21.3)\n",
      "Requirement already satisfied: setuptools in /Users/ikhyvicky/anaconda3/lib/python3.7/site-packages (from mlxtend) (41.0.1)\n",
      "Requirement already satisfied: numpy>=1.16.2 in /Users/ikhyvicky/anaconda3/lib/python3.7/site-packages (from mlxtend) (1.17.4)\n",
      "Requirement already satisfied: python-dateutil>=2.6.1 in /Users/ikhyvicky/anaconda3/lib/python3.7/site-packages (from pandas>=0.24.2->mlxtend) (2.8.0)\n",
      "Requirement already satisfied: pytz>=2017.2 in /Users/ikhyvicky/anaconda3/lib/python3.7/site-packages (from pandas>=0.24.2->mlxtend) (2019.1)\n",
      "Requirement already satisfied: kiwisolver>=1.0.1 in /Users/ikhyvicky/anaconda3/lib/python3.7/site-packages (from matplotlib>=3.0.0->mlxtend) (1.1.0)\n",
      "Requirement already satisfied: pyparsing!=2.0.4,!=2.1.2,!=2.1.6,>=2.0.1 in /Users/ikhyvicky/anaconda3/lib/python3.7/site-packages (from matplotlib>=3.0.0->mlxtend) (2.4.0)\n",
      "Requirement already satisfied: cycler>=0.10 in /Users/ikhyvicky/anaconda3/lib/python3.7/site-packages (from matplotlib>=3.0.0->mlxtend) (0.10.0)\n",
      "Requirement already satisfied: six>=1.5 in /Users/ikhyvicky/anaconda3/lib/python3.7/site-packages (from python-dateutil>=2.6.1->pandas>=0.24.2->mlxtend) (1.12.0)\n",
      "Note: you may need to restart the kernel to use updated packages.\n"
     ]
    }
   ],
   "source": [
    "pip install mlxtend  "
   ]
  },
  {
   "cell_type": "markdown",
   "metadata": {},
   "source": [
    "## Importing the Relevant Libraries"
   ]
  },
  {
   "cell_type": "code",
   "execution_count": 59,
   "metadata": {},
   "outputs": [],
   "source": [
    "from wordcloud import WordCloud, STOPWORDS\n",
    "\n",
    "import pandas as pd\n",
    "import numpy as np\n",
    "import seaborn as sns\n",
    "import matplotlib.pyplot as plt\n",
    "import pandas as pd\n",
    "\n",
    "from sklearn.feature_extraction.text import CountVectorizer, TfidfVectorizer\n",
    "from sklearn.pipeline import Pipeline\n",
    "from sklearn.model_selection import train_test_split, GridSearchCV\n",
    "from sklearn.linear_model import LogisticRegression\n",
    "from sklearn.naive_bayes import MultinomialNB\n",
    "from sklearn.feature_extraction import stop_words\n",
    "from sklearn.metrics import confusion_matrix\n",
    "import scikitplot as skplt\n",
    "from mlxtend.plotting import plot_confusion_matrix\n",
    "from sklearn.metrics import roc_curve\n",
    "from sklearn.metrics import roc_auc_score\n",
    "\n",
    "import warnings\n",
    "warnings.simplefilter(action='ignore')\n",
    "\n",
    "%matplotlib inline"
   ]
  },
  {
   "cell_type": "markdown",
   "metadata": {},
   "source": [
    "## Final EDA"
   ]
  },
  {
   "cell_type": "code",
   "execution_count": 3,
   "metadata": {},
   "outputs": [],
   "source": [
    "df = pd.read_csv('./datasets/datatobemodelled.csv')"
   ]
  },
  {
   "cell_type": "code",
   "execution_count": 4,
   "metadata": {},
   "outputs": [
    {
     "data": {
      "text/html": [
       "<div>\n",
       "<style scoped>\n",
       "    .dataframe tbody tr th:only-of-type {\n",
       "        vertical-align: middle;\n",
       "    }\n",
       "\n",
       "    .dataframe tbody tr th {\n",
       "        vertical-align: top;\n",
       "    }\n",
       "\n",
       "    .dataframe thead th {\n",
       "        text-align: right;\n",
       "    }\n",
       "</style>\n",
       "<table border=\"1\" class=\"dataframe\">\n",
       "  <thead>\n",
       "    <tr style=\"text-align: right;\">\n",
       "      <th></th>\n",
       "      <th>text</th>\n",
       "      <th>title</th>\n",
       "      <th>target</th>\n",
       "    </tr>\n",
       "  </thead>\n",
       "  <tbody>\n",
       "    <tr>\n",
       "      <th>0</th>\n",
       "      <td>since 2015 using nasa hardware scientists and ...</td>\n",
       "      <td>askscience ama series we are experts on nasas ...</td>\n",
       "      <td>1.0</td>\n",
       "    </tr>\n",
       "    <tr>\n",
       "      <th>1</th>\n",
       "      <td>wouldnt a pointed bow cut through the water be...</td>\n",
       "      <td>why arent the bows of submarines pointy</td>\n",
       "      <td>1.0</td>\n",
       "    </tr>\n",
       "    <tr>\n",
       "      <th>2</th>\n",
       "      <td>i am always confused be centrifugal and centri...</td>\n",
       "      <td>do you weigh less at the equator because of ce...</td>\n",
       "      <td>1.0</td>\n",
       "    </tr>\n",
       "    <tr>\n",
       "      <th>3</th>\n",
       "      <td>if the universe is infused with dark matter wo...</td>\n",
       "      <td>could there possibly be black holes that forme...</td>\n",
       "      <td>1.0</td>\n",
       "    </tr>\n",
       "    <tr>\n",
       "      <th>4</th>\n",
       "      <td>when i for example hold one arm straight to th...</td>\n",
       "      <td>does the brain send signals consistently to ke...</td>\n",
       "      <td>1.0</td>\n",
       "    </tr>\n",
       "  </tbody>\n",
       "</table>\n",
       "</div>"
      ],
      "text/plain": [
       "                                                text  \\\n",
       "0  since 2015 using nasa hardware scientists and ...   \n",
       "1  wouldnt a pointed bow cut through the water be...   \n",
       "2  i am always confused be centrifugal and centri...   \n",
       "3  if the universe is infused with dark matter wo...   \n",
       "4  when i for example hold one arm straight to th...   \n",
       "\n",
       "                                               title  target  \n",
       "0  askscience ama series we are experts on nasas ...     1.0  \n",
       "1            why arent the bows of submarines pointy     1.0  \n",
       "2  do you weigh less at the equator because of ce...     1.0  \n",
       "3  could there possibly be black holes that forme...     1.0  \n",
       "4  does the brain send signals consistently to ke...     1.0  "
      ]
     },
     "execution_count": 4,
     "metadata": {},
     "output_type": "execute_result"
    }
   ],
   "source": [
    "df.head()"
   ]
  },
  {
   "cell_type": "code",
   "execution_count": 5,
   "metadata": {},
   "outputs": [
    {
     "data": {
      "text/plain": [
       "(1252, 3)"
      ]
     },
     "execution_count": 5,
     "metadata": {},
     "output_type": "execute_result"
    }
   ],
   "source": [
    "df.shape"
   ]
  },
  {
   "cell_type": "code",
   "execution_count": 6,
   "metadata": {},
   "outputs": [
    {
     "data": {
      "text/plain": [
       "text      0\n",
       "title     2\n",
       "target    2\n",
       "dtype: int64"
      ]
     },
     "execution_count": 6,
     "metadata": {},
     "output_type": "execute_result"
    }
   ],
   "source": [
    "df.isnull().sum() #idk why on cleaning notebook no nulls but upload here got nulls, so just remove since its small"
   ]
  },
  {
   "cell_type": "code",
   "execution_count": 7,
   "metadata": {},
   "outputs": [],
   "source": [
    "df.dropna(inplace=True)"
   ]
  },
  {
   "cell_type": "code",
   "execution_count": 8,
   "metadata": {},
   "outputs": [
    {
     "data": {
      "text/plain": [
       "(1250, 3)"
      ]
     },
     "execution_count": 8,
     "metadata": {},
     "output_type": "execute_result"
    }
   ],
   "source": [
    "df.shape"
   ]
  },
  {
   "cell_type": "code",
   "execution_count": 9,
   "metadata": {},
   "outputs": [],
   "source": [
    "X=df[['text','title']]\n",
    "y=df[['target']]"
   ]
  },
  {
   "cell_type": "code",
   "execution_count": 10,
   "metadata": {
    "scrolled": true
   },
   "outputs": [
    {
     "data": {
      "text/plain": [
       "'since 2015 using nasa hardware scientists and researchers have worked with astronauts on the international space station to conduct a series of experiments to grow harvest and eat a variety of crops in space with seeds sent from earth the most recent experiment has the iss crew growing mizuna mustard using two different light recipes and multiple harvests with the experiments final harvest scheduled for later this week this work builds upon decades of nasa and international research into growing plants in space\\n\\nthese experiments are advancing the knowledge required to successfully grow a large variety of crops on longduration missions such as a crewed mission to mars being able to crops grown in space provides many benefits including supplementing the astronauts packaged diet with essential nutrients and combating diet fatigue\\n\\nhere answering your questions are\\n\\n ralph fritsche space crop production project manager nasas kennedy space center\\n jess bunchek pseudonaut and associate scientist nasas kennedy space center\\n lashelle spencer research and development scientist nasas kennedy space center\\n jacob torres technical and horticultural scientist nasas kennedy space center \\n giola massa nasa veggie project lead nasas kennedy space center \\n\\nwe will see you at 230 pm eastern standard time 1930 ut ask us anything'"
      ]
     },
     "execution_count": 10,
     "metadata": {},
     "output_type": "execute_result"
    }
   ],
   "source": [
    "X['text'][0]"
   ]
  },
  {
   "cell_type": "code",
   "execution_count": 11,
   "metadata": {},
   "outputs": [
    {
     "name": "stdout",
     "output_type": "stream",
     "text": [
      "<class 'pandas.core.frame.DataFrame'>\n",
      "Int64Index: 1250 entries, 0 to 1251\n",
      "Data columns (total 1 columns):\n",
      "target    1250 non-null float64\n",
      "dtypes: float64(1)\n",
      "memory usage: 59.5 KB\n"
     ]
    }
   ],
   "source": [
    "y.info()"
   ]
  },
  {
   "cell_type": "markdown",
   "metadata": {},
   "source": [
    "## Train-Test-Split"
   ]
  },
  {
   "cell_type": "code",
   "execution_count": 12,
   "metadata": {},
   "outputs": [],
   "source": [
    "stopwords=stop_words.ENGLISH_STOP_WORDS"
   ]
  },
  {
   "cell_type": "code",
   "execution_count": 13,
   "metadata": {},
   "outputs": [],
   "source": [
    "X_train, X_test, y_train, y_test = train_test_split(X,\n",
    "                                                    y,\n",
    "                                                    test_size=0.25,\n",
    "                                                    random_state=42,\n",
    "                                                    stratify=y)"
   ]
  },
  {
   "cell_type": "markdown",
   "metadata": {},
   "source": [
    "## Using Count Vectorizer"
   ]
  },
  {
   "cell_type": "code",
   "execution_count": 14,
   "metadata": {},
   "outputs": [],
   "source": [
    "# we start by trying the naive biase first\n",
    "# Instantiate our CountVectorizer.\n",
    "#This step was inspired by what i saw online, involving strip-accents and justifying the ngrams\n",
    "cvec_text = CountVectorizer(stop_words=stopwords, strip_accents = 'ascii', ngram_range=(1, 6), min_df=.03, max_features=30)\n",
    "cvec_title = CountVectorizer(stop_words=stopwords, strip_accents = 'ascii', ngram_range=(1, 3), min_df=.01,max_features=30)\n",
    "\n",
    "# the assumption was that post texts with an ngram range of (1, 6) would both clean up noise and be more helpful than those with a range of (1, 1)\n",
    "# set a min_df to help clean up noise though it was gentler than previous ones\n",
    "# the assumption was that titles are likely more informative so setting an n-gram range of (1, 4) might provide even more helpful context"
   ]
  },
  {
   "cell_type": "code",
   "execution_count": 15,
   "metadata": {},
   "outputs": [],
   "source": [
    "X_train_text = cvec_text.fit_transform(X_train.text)\n",
    "X_train_title = cvec_title.fit_transform(X_train.title)\n",
    "\n",
    "X_test_text = cvec_text.transform(X_test.text)\n",
    "X_test_title = cvec_title.transform(X_test.title)"
   ]
  },
  {
   "cell_type": "code",
   "execution_count": 16,
   "metadata": {},
   "outputs": [
    {
     "data": {
      "text/plain": [
       "(937, 30)"
      ]
     },
     "execution_count": 16,
     "metadata": {},
     "output_type": "execute_result"
    }
   ],
   "source": [
    "X_train_text_df = pd.DataFrame(X_train_text.todense(), columns=[x+'_text' for x in cvec_text.get_feature_names()])\n",
    "X_train_text_df.shape\n",
    "\n",
    "# creating a dataframe with my train post text and checking the shape"
   ]
  },
  {
   "cell_type": "code",
   "execution_count": 17,
   "metadata": {},
   "outputs": [
    {
     "data": {
      "text/plain": [
       "Index(['actually_text', 'answer_text', 'body_text', 'day_text', 'did_text',\n",
       "       'different_text', 'does_text', 'dont_text', 'going_text', 'got_text',\n",
       "       'im_text', 'ive_text', 'just_text', 'know_text', 'like_text',\n",
       "       'make_text', 'point_text', 'question_text', 'really_text', 'said_text',\n",
       "       'say_text', 'says_text', 'space_text', 'sure_text', 'think_text',\n",
       "       'time_text', 'understand_text', 'water_text', 'way_text', 'years_text'],\n",
       "      dtype='object')"
      ]
     },
     "execution_count": 17,
     "metadata": {},
     "output_type": "execute_result"
    }
   ],
   "source": [
    "X_train_text_df.columns"
   ]
  },
  {
   "cell_type": "code",
   "execution_count": 18,
   "metadata": {},
   "outputs": [
    {
     "data": {
      "text/plain": [
       "(937, 30)"
      ]
     },
     "execution_count": 18,
     "metadata": {},
     "output_type": "execute_result"
    }
   ],
   "source": [
    "X_train_title_df = pd.DataFrame(X_train_title.todense(), columns=[y+'_title' for y in cvec_title.get_feature_names()])\n",
    "X_train_title_df.shape\n",
    "\n",
    "# creating a dataframe with my train post titles and checking the shape"
   ]
  },
  {
   "cell_type": "code",
   "execution_count": 19,
   "metadata": {},
   "outputs": [
    {
     "data": {
      "text/plain": [
       "(313, 30)"
      ]
     },
     "execution_count": 19,
     "metadata": {},
     "output_type": "execute_result"
    }
   ],
   "source": [
    "X_test_text_df = pd.DataFrame(X_test_text.todense(), columns=[x+'_text' for x in cvec_text.get_feature_names()])\n",
    "X_test_text_df.shape\n",
    "\n",
    "# creating a dataframe with my test post text and checking the shape"
   ]
  },
  {
   "cell_type": "code",
   "execution_count": 20,
   "metadata": {},
   "outputs": [
    {
     "data": {
      "text/plain": [
       "(313, 30)"
      ]
     },
     "execution_count": 20,
     "metadata": {},
     "output_type": "execute_result"
    }
   ],
   "source": [
    "X_test_title_df = pd.DataFrame(X_test_title.todense(), columns=[y+'_title' for y in cvec_title.get_feature_names()])\n",
    "X_test_title_df.shape\n",
    "\n",
    "# creating a dataframe with my test post titles and checking the shape\n"
   ]
  },
  {
   "cell_type": "code",
   "execution_count": 21,
   "metadata": {},
   "outputs": [],
   "source": [
    "vecced_train_reddit_posts = pd.concat([X_train_text_df, X_train_title_df], axis=1)\n",
    "vecced_test_reddit_posts = pd.concat([X_test_text_df, X_test_title_df], axis=1)\n",
    "\n",
    "# concatenating my train text and titles back together as well as my test text and titles"
   ]
  },
  {
   "cell_type": "code",
   "execution_count": 22,
   "metadata": {
    "scrolled": true
   },
   "outputs": [
    {
     "data": {
      "text/plain": [
       "(937, 60)"
      ]
     },
     "execution_count": 22,
     "metadata": {},
     "output_type": "execute_result"
    }
   ],
   "source": [
    "vecced_train_reddit_posts.shape"
   ]
  },
  {
   "cell_type": "code",
   "execution_count": 23,
   "metadata": {},
   "outputs": [
    {
     "data": {
      "text/html": [
       "<div>\n",
       "<style scoped>\n",
       "    .dataframe tbody tr th:only-of-type {\n",
       "        vertical-align: middle;\n",
       "    }\n",
       "\n",
       "    .dataframe tbody tr th {\n",
       "        vertical-align: top;\n",
       "    }\n",
       "\n",
       "    .dataframe thead th {\n",
       "        text-align: right;\n",
       "    }\n",
       "</style>\n",
       "<table border=\"1\" class=\"dataframe\">\n",
       "  <thead>\n",
       "    <tr style=\"text-align: right;\">\n",
       "      <th></th>\n",
       "      <th>actually_text</th>\n",
       "      <th>answer_text</th>\n",
       "      <th>body_text</th>\n",
       "      <th>day_text</th>\n",
       "      <th>did_text</th>\n",
       "      <th>different_text</th>\n",
       "      <th>does_text</th>\n",
       "      <th>dont_text</th>\n",
       "      <th>going_text</th>\n",
       "      <th>got_text</th>\n",
       "      <th>...</th>\n",
       "      <th>say_title</th>\n",
       "      <th>surface_title</th>\n",
       "      <th>temperature_title</th>\n",
       "      <th>time_title</th>\n",
       "      <th>use_title</th>\n",
       "      <th>walks_title</th>\n",
       "      <th>water_title</th>\n",
       "      <th>whats_title</th>\n",
       "      <th>wife_title</th>\n",
       "      <th>work_title</th>\n",
       "    </tr>\n",
       "  </thead>\n",
       "  <tbody>\n",
       "    <tr>\n",
       "      <th>0</th>\n",
       "      <td>0</td>\n",
       "      <td>0</td>\n",
       "      <td>0</td>\n",
       "      <td>0</td>\n",
       "      <td>0</td>\n",
       "      <td>0</td>\n",
       "      <td>0</td>\n",
       "      <td>0</td>\n",
       "      <td>0</td>\n",
       "      <td>0</td>\n",
       "      <td>...</td>\n",
       "      <td>0</td>\n",
       "      <td>0</td>\n",
       "      <td>0</td>\n",
       "      <td>0</td>\n",
       "      <td>0</td>\n",
       "      <td>0</td>\n",
       "      <td>0</td>\n",
       "      <td>0</td>\n",
       "      <td>0</td>\n",
       "      <td>0</td>\n",
       "    </tr>\n",
       "    <tr>\n",
       "      <th>1</th>\n",
       "      <td>0</td>\n",
       "      <td>0</td>\n",
       "      <td>0</td>\n",
       "      <td>0</td>\n",
       "      <td>0</td>\n",
       "      <td>0</td>\n",
       "      <td>0</td>\n",
       "      <td>0</td>\n",
       "      <td>0</td>\n",
       "      <td>0</td>\n",
       "      <td>...</td>\n",
       "      <td>0</td>\n",
       "      <td>0</td>\n",
       "      <td>0</td>\n",
       "      <td>0</td>\n",
       "      <td>0</td>\n",
       "      <td>0</td>\n",
       "      <td>0</td>\n",
       "      <td>0</td>\n",
       "      <td>0</td>\n",
       "      <td>0</td>\n",
       "    </tr>\n",
       "    <tr>\n",
       "      <th>2</th>\n",
       "      <td>0</td>\n",
       "      <td>0</td>\n",
       "      <td>0</td>\n",
       "      <td>0</td>\n",
       "      <td>0</td>\n",
       "      <td>0</td>\n",
       "      <td>0</td>\n",
       "      <td>0</td>\n",
       "      <td>0</td>\n",
       "      <td>0</td>\n",
       "      <td>...</td>\n",
       "      <td>0</td>\n",
       "      <td>0</td>\n",
       "      <td>0</td>\n",
       "      <td>0</td>\n",
       "      <td>0</td>\n",
       "      <td>0</td>\n",
       "      <td>0</td>\n",
       "      <td>0</td>\n",
       "      <td>0</td>\n",
       "      <td>0</td>\n",
       "    </tr>\n",
       "    <tr>\n",
       "      <th>3</th>\n",
       "      <td>0</td>\n",
       "      <td>0</td>\n",
       "      <td>0</td>\n",
       "      <td>0</td>\n",
       "      <td>0</td>\n",
       "      <td>0</td>\n",
       "      <td>0</td>\n",
       "      <td>0</td>\n",
       "      <td>0</td>\n",
       "      <td>0</td>\n",
       "      <td>...</td>\n",
       "      <td>0</td>\n",
       "      <td>0</td>\n",
       "      <td>0</td>\n",
       "      <td>0</td>\n",
       "      <td>0</td>\n",
       "      <td>0</td>\n",
       "      <td>0</td>\n",
       "      <td>0</td>\n",
       "      <td>0</td>\n",
       "      <td>0</td>\n",
       "    </tr>\n",
       "    <tr>\n",
       "      <th>4</th>\n",
       "      <td>0</td>\n",
       "      <td>0</td>\n",
       "      <td>0</td>\n",
       "      <td>0</td>\n",
       "      <td>0</td>\n",
       "      <td>0</td>\n",
       "      <td>0</td>\n",
       "      <td>0</td>\n",
       "      <td>0</td>\n",
       "      <td>0</td>\n",
       "      <td>...</td>\n",
       "      <td>0</td>\n",
       "      <td>0</td>\n",
       "      <td>0</td>\n",
       "      <td>0</td>\n",
       "      <td>0</td>\n",
       "      <td>0</td>\n",
       "      <td>0</td>\n",
       "      <td>0</td>\n",
       "      <td>0</td>\n",
       "      <td>1</td>\n",
       "    </tr>\n",
       "    <tr>\n",
       "      <th>...</th>\n",
       "      <td>...</td>\n",
       "      <td>...</td>\n",
       "      <td>...</td>\n",
       "      <td>...</td>\n",
       "      <td>...</td>\n",
       "      <td>...</td>\n",
       "      <td>...</td>\n",
       "      <td>...</td>\n",
       "      <td>...</td>\n",
       "      <td>...</td>\n",
       "      <td>...</td>\n",
       "      <td>...</td>\n",
       "      <td>...</td>\n",
       "      <td>...</td>\n",
       "      <td>...</td>\n",
       "      <td>...</td>\n",
       "      <td>...</td>\n",
       "      <td>...</td>\n",
       "      <td>...</td>\n",
       "      <td>...</td>\n",
       "      <td>...</td>\n",
       "    </tr>\n",
       "    <tr>\n",
       "      <th>932</th>\n",
       "      <td>0</td>\n",
       "      <td>0</td>\n",
       "      <td>0</td>\n",
       "      <td>0</td>\n",
       "      <td>0</td>\n",
       "      <td>0</td>\n",
       "      <td>0</td>\n",
       "      <td>0</td>\n",
       "      <td>0</td>\n",
       "      <td>0</td>\n",
       "      <td>...</td>\n",
       "      <td>0</td>\n",
       "      <td>0</td>\n",
       "      <td>0</td>\n",
       "      <td>0</td>\n",
       "      <td>0</td>\n",
       "      <td>0</td>\n",
       "      <td>0</td>\n",
       "      <td>0</td>\n",
       "      <td>1</td>\n",
       "      <td>0</td>\n",
       "    </tr>\n",
       "    <tr>\n",
       "      <th>933</th>\n",
       "      <td>0</td>\n",
       "      <td>0</td>\n",
       "      <td>0</td>\n",
       "      <td>0</td>\n",
       "      <td>0</td>\n",
       "      <td>0</td>\n",
       "      <td>0</td>\n",
       "      <td>0</td>\n",
       "      <td>0</td>\n",
       "      <td>1</td>\n",
       "      <td>...</td>\n",
       "      <td>0</td>\n",
       "      <td>0</td>\n",
       "      <td>0</td>\n",
       "      <td>0</td>\n",
       "      <td>0</td>\n",
       "      <td>0</td>\n",
       "      <td>0</td>\n",
       "      <td>0</td>\n",
       "      <td>0</td>\n",
       "      <td>0</td>\n",
       "    </tr>\n",
       "    <tr>\n",
       "      <th>934</th>\n",
       "      <td>0</td>\n",
       "      <td>0</td>\n",
       "      <td>0</td>\n",
       "      <td>0</td>\n",
       "      <td>0</td>\n",
       "      <td>0</td>\n",
       "      <td>2</td>\n",
       "      <td>0</td>\n",
       "      <td>0</td>\n",
       "      <td>1</td>\n",
       "      <td>...</td>\n",
       "      <td>0</td>\n",
       "      <td>0</td>\n",
       "      <td>1</td>\n",
       "      <td>0</td>\n",
       "      <td>0</td>\n",
       "      <td>0</td>\n",
       "      <td>0</td>\n",
       "      <td>0</td>\n",
       "      <td>0</td>\n",
       "      <td>0</td>\n",
       "    </tr>\n",
       "    <tr>\n",
       "      <th>935</th>\n",
       "      <td>0</td>\n",
       "      <td>0</td>\n",
       "      <td>0</td>\n",
       "      <td>0</td>\n",
       "      <td>0</td>\n",
       "      <td>0</td>\n",
       "      <td>0</td>\n",
       "      <td>0</td>\n",
       "      <td>0</td>\n",
       "      <td>0</td>\n",
       "      <td>...</td>\n",
       "      <td>0</td>\n",
       "      <td>0</td>\n",
       "      <td>0</td>\n",
       "      <td>0</td>\n",
       "      <td>0</td>\n",
       "      <td>0</td>\n",
       "      <td>1</td>\n",
       "      <td>0</td>\n",
       "      <td>0</td>\n",
       "      <td>0</td>\n",
       "    </tr>\n",
       "    <tr>\n",
       "      <th>936</th>\n",
       "      <td>0</td>\n",
       "      <td>0</td>\n",
       "      <td>0</td>\n",
       "      <td>0</td>\n",
       "      <td>0</td>\n",
       "      <td>0</td>\n",
       "      <td>0</td>\n",
       "      <td>0</td>\n",
       "      <td>0</td>\n",
       "      <td>0</td>\n",
       "      <td>...</td>\n",
       "      <td>0</td>\n",
       "      <td>0</td>\n",
       "      <td>0</td>\n",
       "      <td>0</td>\n",
       "      <td>0</td>\n",
       "      <td>0</td>\n",
       "      <td>0</td>\n",
       "      <td>0</td>\n",
       "      <td>0</td>\n",
       "      <td>0</td>\n",
       "    </tr>\n",
       "  </tbody>\n",
       "</table>\n",
       "<p>937 rows × 60 columns</p>\n",
       "</div>"
      ],
      "text/plain": [
       "     actually_text  answer_text  body_text  day_text  did_text  \\\n",
       "0                0            0          0         0         0   \n",
       "1                0            0          0         0         0   \n",
       "2                0            0          0         0         0   \n",
       "3                0            0          0         0         0   \n",
       "4                0            0          0         0         0   \n",
       "..             ...          ...        ...       ...       ...   \n",
       "932              0            0          0         0         0   \n",
       "933              0            0          0         0         0   \n",
       "934              0            0          0         0         0   \n",
       "935              0            0          0         0         0   \n",
       "936              0            0          0         0         0   \n",
       "\n",
       "     different_text  does_text  dont_text  going_text  got_text  ...  \\\n",
       "0                 0          0          0           0         0  ...   \n",
       "1                 0          0          0           0         0  ...   \n",
       "2                 0          0          0           0         0  ...   \n",
       "3                 0          0          0           0         0  ...   \n",
       "4                 0          0          0           0         0  ...   \n",
       "..              ...        ...        ...         ...       ...  ...   \n",
       "932               0          0          0           0         0  ...   \n",
       "933               0          0          0           0         1  ...   \n",
       "934               0          2          0           0         1  ...   \n",
       "935               0          0          0           0         0  ...   \n",
       "936               0          0          0           0         0  ...   \n",
       "\n",
       "     say_title  surface_title  temperature_title  time_title  use_title  \\\n",
       "0            0              0                  0           0          0   \n",
       "1            0              0                  0           0          0   \n",
       "2            0              0                  0           0          0   \n",
       "3            0              0                  0           0          0   \n",
       "4            0              0                  0           0          0   \n",
       "..         ...            ...                ...         ...        ...   \n",
       "932          0              0                  0           0          0   \n",
       "933          0              0                  0           0          0   \n",
       "934          0              0                  1           0          0   \n",
       "935          0              0                  0           0          0   \n",
       "936          0              0                  0           0          0   \n",
       "\n",
       "     walks_title  water_title  whats_title  wife_title  work_title  \n",
       "0              0            0            0           0           0  \n",
       "1              0            0            0           0           0  \n",
       "2              0            0            0           0           0  \n",
       "3              0            0            0           0           0  \n",
       "4              0            0            0           0           1  \n",
       "..           ...          ...          ...         ...         ...  \n",
       "932            0            0            0           1           0  \n",
       "933            0            0            0           0           0  \n",
       "934            0            0            0           0           0  \n",
       "935            0            1            0           0           0  \n",
       "936            0            0            0           0           0  \n",
       "\n",
       "[937 rows x 60 columns]"
      ]
     },
     "execution_count": 23,
     "metadata": {},
     "output_type": "execute_result"
    }
   ],
   "source": [
    "vecced_train_reddit_posts"
   ]
  },
  {
   "cell_type": "code",
   "execution_count": 24,
   "metadata": {},
   "outputs": [
    {
     "data": {
      "text/plain": [
       "(313, 60)"
      ]
     },
     "execution_count": 24,
     "metadata": {},
     "output_type": "execute_result"
    }
   ],
   "source": [
    "vecced_test_reddit_posts.shape\n",
    "\n",
    "# checking the shape of my newly concatenated train dataframe"
   ]
  },
  {
   "cell_type": "markdown",
   "metadata": {},
   "source": [
    "## Mode1 1: Using The NaiveBias Bernoulli"
   ]
  },
  {
   "cell_type": "code",
   "execution_count": 25,
   "metadata": {},
   "outputs": [],
   "source": [
    "# Import our model!\n",
    "from sklearn.naive_bayes import BernoulliNB"
   ]
  },
  {
   "cell_type": "code",
   "execution_count": 26,
   "metadata": {},
   "outputs": [],
   "source": [
    "#We create a function to instatiate gridsearch + bn model"
   ]
  },
  {
   "cell_type": "markdown",
   "metadata": {},
   "source": [
    "## Gridsearch + BernoulliNB function "
   ]
  },
  {
   "cell_type": "code",
   "execution_count": 27,
   "metadata": {},
   "outputs": [],
   "source": [
    "def run_the_bn_models(model):\n",
    "    \n",
    "    if model == 'bn_1':\n",
    "        \n",
    "        bn_params = {               #from the documention and online research, we play around with the params\n",
    "            'fit_prior': [True],\n",
    "            'alpha': np.arange(0, 1, 0.1).tolist()} #np.arange(0, 1, 0.1).tolist()\n",
    "        \n",
    "        GS = GridSearchCV(BernoulliNB(),\n",
    "                        bn_params,\n",
    "                        cv = 5,\n",
    "                        verbose = 1,\n",
    "                        n_jobs = -1)\n",
    "        \n",
    "    elif model == 'bn_2':\n",
    "        \n",
    "         bn_params = {\n",
    "            'fit_prior': [False],\n",
    "            'alpha': np.arange(0, 1, 0.1).tolist()}\n",
    "        \n",
    "         GS = GridSearchCV(BernoulliNB(),\n",
    "                        bn_params,\n",
    "                        cv = 5,\n",
    "                        verbose = 1,\n",
    "                        n_jobs = -1)\n",
    "        \n",
    "    else:\n",
    "        print('There is an error.')\n",
    "        \n",
    "    GS.fit(vecced_train_reddit_posts.values, y_train)\n",
    "     \n",
    "    print(f'Train score = {GS.score(vecced_train_reddit_posts.values, y_train)}')\n",
    "    print(f'Test score = {GS.score(vecced_test_reddit_posts.values, y_test)}')\n",
    "    \n",
    "    predictions = GS.predict(vecced_test_reddit_posts.values)\n",
    "    print('--------')\n",
    "    print(confusion_matrix(y_test, predictions))\n",
    "    tn, fp, fn, tp = confusion_matrix(y_test, predictions).ravel()\n",
    "    \n",
    "    print(\"True Negatives: %s\" % tn)\n",
    "    print(\"False Positives: %s\" % fp)\n",
    "    print(\"False Negatives: %s\" % fn)\n",
    "    print(\"True Positives: %s\" % tp)\n",
    "    print(f'Best params = {GS.best_params_}')"
   ]
  },
  {
   "cell_type": "code",
   "execution_count": 28,
   "metadata": {
    "scrolled": true
   },
   "outputs": [
    {
     "name": "stdout",
     "output_type": "stream",
     "text": [
      "Fitting 5 folds for each of 10 candidates, totalling 50 fits\n"
     ]
    },
    {
     "name": "stderr",
     "output_type": "stream",
     "text": [
      "[Parallel(n_jobs=-1)]: Using backend LokyBackend with 16 concurrent workers.\n"
     ]
    },
    {
     "name": "stdout",
     "output_type": "stream",
     "text": [
      "Train score = 0.8068303094983992\n",
      "Test score = 0.7763578274760383\n",
      "--------\n",
      "[[139  18]\n",
      " [ 52 104]]\n",
      "True Negatives: 139\n",
      "False Positives: 18\n",
      "False Negatives: 52\n",
      "True Positives: 104\n",
      "Best params = {'alpha': 0.2, 'fit_prior': True}\n"
     ]
    },
    {
     "name": "stderr",
     "output_type": "stream",
     "text": [
      "[Parallel(n_jobs=-1)]: Done  18 tasks      | elapsed:    2.3s\n",
      "[Parallel(n_jobs=-1)]: Done  50 out of  50 | elapsed:    2.4s finished\n"
     ]
    }
   ],
   "source": [
    "run_the_bn_models('bn_1')"
   ]
  },
  {
   "cell_type": "code",
   "execution_count": 29,
   "metadata": {},
   "outputs": [
    {
     "name": "stderr",
     "output_type": "stream",
     "text": [
      "[Parallel(n_jobs=-1)]: Using backend LokyBackend with 16 concurrent workers.\n"
     ]
    },
    {
     "name": "stdout",
     "output_type": "stream",
     "text": [
      "Fitting 5 folds for each of 10 candidates, totalling 50 fits\n",
      "Train score = 0.8068303094983992\n",
      "Test score = 0.7763578274760383\n",
      "--------\n",
      "[[139  18]\n",
      " [ 52 104]]\n",
      "True Negatives: 139\n",
      "False Positives: 18\n",
      "False Negatives: 52\n",
      "True Positives: 104\n",
      "Best params = {'alpha': 0.2, 'fit_prior': False}\n"
     ]
    },
    {
     "name": "stderr",
     "output_type": "stream",
     "text": [
      "[Parallel(n_jobs=-1)]: Done  19 out of  50 | elapsed:    0.1s remaining:    0.1s\n",
      "[Parallel(n_jobs=-1)]: Done  50 out of  50 | elapsed:    0.1s finished\n"
     ]
    }
   ],
   "source": [
    "run_the_bn_models('bn_2')"
   ]
  },
  {
   "cell_type": "code",
   "execution_count": 30,
   "metadata": {},
   "outputs": [],
   "source": [
    "#There is no difference between our 1st and 2nd naive model\n",
    "#ill just use the bn_1"
   ]
  },
  {
   "cell_type": "markdown",
   "metadata": {},
   "source": [
    "True negatives are things we correctly predict to be negative.\n",
    "<br>In our case, posts from subreddit askscience is assigned 1. A true negative means I correctly predicted a word comes from Jokes subreddit"
   ]
  },
  {
   "cell_type": "markdown",
   "metadata": {},
   "source": [
    "False positives are things we falsely predict to be positive.\n",
    "<br>In our case, posts from subreddit askscience is assigned 1. A true positive means I incorrectly \n",
    "<br>predict a word comes from Askscience, but in actual fact it came from Jokes subreddit.\n",
    "<br>\n",
    "<br> In our case we got very few false positives. That means our model is quite legit"
   ]
  },
  {
   "cell_type": "markdown",
   "metadata": {},
   "source": [
    "False negatives are things we falsely predict to be positive.\n",
    "<br>In our case, posts from subreddit askscience is assigned 1. A false negative means I incorrectly predicted a word comes from Jokes, but in reality its from Askscience.\n",
    "<br>\n",
    "<br>In our case we got abit more false negatives then false positives. \n"
   ]
  },
  {
   "cell_type": "markdown",
   "metadata": {},
   "source": [
    "## Model 2: Using The Logistic Regression"
   ]
  },
  {
   "cell_type": "code",
   "execution_count": 31,
   "metadata": {},
   "outputs": [],
   "source": [
    "#Logistic Regression Models"
   ]
  },
  {
   "cell_type": "code",
   "execution_count": 32,
   "metadata": {},
   "outputs": [],
   "source": [
    "#creating a function to instantiate the lr + gridsearchcv"
   ]
  },
  {
   "cell_type": "markdown",
   "metadata": {},
   "source": [
    "## Gridsearch + Logistic Regression function"
   ]
  },
  {
   "cell_type": "code",
   "execution_count": 33,
   "metadata": {},
   "outputs": [],
   "source": [
    "def run_the_lr_models(model):\n",
    "    \n",
    "    if model == 'lr_1':\n",
    "        \n",
    "        lr_1_params = {\n",
    "            'penalty': ['l1'], #ridge regressiom\n",
    "            'C':  np.arange(1, 5, 0.1).tolist(), #[1, 1.5, 2, 2.5]\n",
    "            'class_weight': ['balanced'],\n",
    "            'warm_start': [True, False],\n",
    "            'random_state': [42],\n",
    "            'solver': ['liblinear']}\n",
    "        \n",
    "        M = GridSearchCV(LogisticRegression(),\n",
    "                        lr_1_params,\n",
    "                        cv = 5,\n",
    "                        verbose = 1,\n",
    "                        n_jobs = -1)\n",
    "        \n",
    "    elif model == 'lr_2':\n",
    "        \n",
    "        lr_2_params = {\n",
    "            'penalty': ['l2'], #lasso regression\n",
    "            'C': np.arange(1, 5, 0.1).tolist(),\n",
    "            'class_weight': ['balanced'],\n",
    "            'warm_start': [True, False],            \n",
    "            'random_state': [42],\n",
    "            'solver': ['lbfgs', 'liblinear']}\n",
    "        \n",
    "        M = GridSearchCV(LogisticRegression(),\n",
    "                        lr_2_params,\n",
    "                        cv = 5,\n",
    "                        verbose = 1,\n",
    "                        n_jobs = -1)\n",
    "\n",
    "    else:\n",
    "        print('There is an error.')\n",
    "        \n",
    "    M.fit(vecced_train_reddit_posts.values, y_train)\n",
    "     \n",
    "    print(f'Train score = {M.score(vecced_train_reddit_posts.values, y_train)}')\n",
    "    print(f'Test score = {M.score(vecced_test_reddit_posts.values, y_test)}')\n",
    "    \n",
    "    predictions = M.predict(vecced_test_reddit_posts.values)\n",
    "    print('--------')\n",
    "    print(confusion_matrix(y_test, predictions))\n",
    "    tn, fp, fn, tp = confusion_matrix(y_test, predictions).ravel()\n",
    "    print(\"True Negatives: %s\" % tn)\n",
    "    print(\"False Positives: %s\" % fp)\n",
    "    print(\"False Negatives: %s\" % fn)\n",
    "    print(\"True Positives: %s\" % tp)\n",
    "    print(f'Best params = {M.best_params_}')"
   ]
  },
  {
   "cell_type": "code",
   "execution_count": 34,
   "metadata": {},
   "outputs": [
    {
     "name": "stdout",
     "output_type": "stream",
     "text": [
      "Fitting 5 folds for each of 80 candidates, totalling 400 fits\n"
     ]
    },
    {
     "name": "stderr",
     "output_type": "stream",
     "text": [
      "[Parallel(n_jobs=-1)]: Using backend LokyBackend with 16 concurrent workers.\n",
      "[Parallel(n_jobs=-1)]: Done  18 tasks      | elapsed:    0.1s\n"
     ]
    },
    {
     "name": "stdout",
     "output_type": "stream",
     "text": [
      "Train score = 0.8324439701173959\n",
      "Test score = 0.7859424920127795\n",
      "--------\n",
      "[[139  18]\n",
      " [ 49 107]]\n",
      "True Negatives: 139\n",
      "False Positives: 18\n",
      "False Negatives: 49\n",
      "True Positives: 107\n",
      "Best params = {'C': 1.2000000000000002, 'class_weight': 'balanced', 'penalty': 'l1', 'random_state': 42, 'solver': 'liblinear', 'warm_start': True}\n"
     ]
    },
    {
     "name": "stderr",
     "output_type": "stream",
     "text": [
      "[Parallel(n_jobs=-1)]: Done 400 out of 400 | elapsed:    0.5s finished\n"
     ]
    }
   ],
   "source": [
    "run_the_lr_models('lr_1')"
   ]
  },
  {
   "cell_type": "code",
   "execution_count": 35,
   "metadata": {},
   "outputs": [
    {
     "name": "stderr",
     "output_type": "stream",
     "text": [
      "[Parallel(n_jobs=-1)]: Using backend LokyBackend with 16 concurrent workers.\n"
     ]
    },
    {
     "name": "stdout",
     "output_type": "stream",
     "text": [
      "Fitting 5 folds for each of 160 candidates, totalling 800 fits\n"
     ]
    },
    {
     "name": "stderr",
     "output_type": "stream",
     "text": [
      "[Parallel(n_jobs=-1)]: Done  18 tasks      | elapsed:    0.4s\n"
     ]
    },
    {
     "name": "stdout",
     "output_type": "stream",
     "text": [
      "Train score = 0.8345784418356457\n",
      "Test score = 0.7827476038338658\n",
      "--------\n",
      "[[137  20]\n",
      " [ 48 108]]\n",
      "True Negatives: 137\n",
      "False Positives: 20\n",
      "False Negatives: 48\n",
      "True Positives: 108\n",
      "Best params = {'C': 2.6000000000000014, 'class_weight': 'balanced', 'penalty': 'l2', 'random_state': 42, 'solver': 'liblinear', 'warm_start': True}\n"
     ]
    },
    {
     "name": "stderr",
     "output_type": "stream",
     "text": [
      "[Parallel(n_jobs=-1)]: Done 800 out of 800 | elapsed:    1.8s finished\n"
     ]
    }
   ],
   "source": [
    "run_the_lr_models('lr_2')"
   ]
  },
  {
   "cell_type": "code",
   "execution_count": 36,
   "metadata": {},
   "outputs": [],
   "source": [
    "#Our lr-1 performed better lr_2 so we would take score from this model.\n"
   ]
  },
  {
   "cell_type": "code",
   "execution_count": 37,
   "metadata": {},
   "outputs": [],
   "source": [
    "#Comparing Bn_1 & Lr_2 ,\n",
    "#For Bn_1, the accuracyt of the test scores and train_score differed by 7%\n",
    "#For Lr_2, the accuracyt of the test scores and train_score differed by 4%\n",
    "#This suggest Lr_2 to be the more stable one.\n",
    "#Test_scores for both are similar, with Lr_2 edging ahead with an accuracy of 0.766\n",
    "#The score suggest that the Lr_2 is generalised enough to work elsewhere, not really overfitting.\n",
    "\n"
   ]
  },
  {
   "cell_type": "code",
   "execution_count": 38,
   "metadata": {},
   "outputs": [],
   "source": [
    "#What else can be done?\n",
    "#Testing out TF-IDF and subsequently doing MultinormialNB\n",
    "#So far i havent use stemming or lemmitizing. Maybe can consider doing that,"
   ]
  },
  {
   "cell_type": "code",
   "execution_count": 39,
   "metadata": {},
   "outputs": [],
   "source": [
    "#Trying out TF-IDF\n",
    "#copy steps above and just change for TF-IDF"
   ]
  },
  {
   "cell_type": "markdown",
   "metadata": {},
   "source": [
    "## Reapeating Process Using TF_IVF"
   ]
  },
  {
   "cell_type": "code",
   "execution_count": 40,
   "metadata": {},
   "outputs": [],
   "source": [
    "tvec_text = TfidfVectorizer(stop_words=stopwords, strip_accents = 'ascii', ngram_range=(1, 6), min_df=.03, max_features=30)\n",
    "tvec_title = TfidfVectorizer(stop_words=stopwords, strip_accents = 'ascii', ngram_range=(1, 3), min_df=.01,max_features=30)"
   ]
  },
  {
   "cell_type": "code",
   "execution_count": 41,
   "metadata": {},
   "outputs": [],
   "source": [
    "X_train_text_tvec = tvec_text.fit_transform(X_train.text)\n",
    "X_train_title_tvec = tvec_title.fit_transform(X_train.title)\n",
    "\n",
    "X_test_text_tvec = tvec_text.transform(X_test.text)\n",
    "X_test_title_tvec = tvec_title.transform(X_test.title)\n"
   ]
  },
  {
   "cell_type": "code",
   "execution_count": 42,
   "metadata": {},
   "outputs": [
    {
     "name": "stdout",
     "output_type": "stream",
     "text": [
      "(937, 30)\n",
      "(937, 30)\n"
     ]
    }
   ],
   "source": [
    "X_train_text_tvec_df = pd.DataFrame(X_train_text_tvec.todense(), columns=[x+'_text' for x in cvec_text.get_feature_names()])\n",
    "print(X_train_text_tvec_df.shape)\n",
    "\n",
    "\n",
    "X_train_title_tvec_df = pd.DataFrame(X_train_title_tvec.todense(), columns=[y+'_title' for y in cvec_title.get_feature_names()])\n",
    "print(X_train_title_tvec_df.shape)\n"
   ]
  },
  {
   "cell_type": "code",
   "execution_count": 43,
   "metadata": {},
   "outputs": [
    {
     "name": "stdout",
     "output_type": "stream",
     "text": [
      "(313, 30)\n",
      "(313, 30)\n"
     ]
    }
   ],
   "source": [
    "X_test_text_tvec_df = pd.DataFrame(X_test_text_tvec.todense(), columns=[x+'_text' for x in cvec_text.get_feature_names()])\n",
    "print(X_test_text_tvec_df.shape)\n",
    "\n",
    "\n",
    "\n",
    "X_test_title_tvec_df = pd.DataFrame(X_test_title.todense(), columns=[y+'_title' for y in cvec_title.get_feature_names()])\n",
    "print(X_test_title_tvec_df.shape)"
   ]
  },
  {
   "cell_type": "code",
   "execution_count": 44,
   "metadata": {},
   "outputs": [],
   "source": [
    "vecced_train_reddit_tvec_posts = pd.concat([X_train_text_tvec_df, X_train_title_tvec_df], axis=1)\n",
    "vecced_test_reddit_tvec_posts = pd.concat([X_test_text_tvec_df, X_test_title_tvec_df], axis=1)"
   ]
  },
  {
   "cell_type": "code",
   "execution_count": 45,
   "metadata": {},
   "outputs": [
    {
     "data": {
      "text/html": [
       "<div>\n",
       "<style scoped>\n",
       "    .dataframe tbody tr th:only-of-type {\n",
       "        vertical-align: middle;\n",
       "    }\n",
       "\n",
       "    .dataframe tbody tr th {\n",
       "        vertical-align: top;\n",
       "    }\n",
       "\n",
       "    .dataframe thead th {\n",
       "        text-align: right;\n",
       "    }\n",
       "</style>\n",
       "<table border=\"1\" class=\"dataframe\">\n",
       "  <thead>\n",
       "    <tr style=\"text-align: right;\">\n",
       "      <th></th>\n",
       "      <th>actually_text</th>\n",
       "      <th>answer_text</th>\n",
       "      <th>body_text</th>\n",
       "      <th>day_text</th>\n",
       "      <th>did_text</th>\n",
       "      <th>different_text</th>\n",
       "      <th>does_text</th>\n",
       "      <th>dont_text</th>\n",
       "      <th>going_text</th>\n",
       "      <th>got_text</th>\n",
       "      <th>...</th>\n",
       "      <th>say_title</th>\n",
       "      <th>surface_title</th>\n",
       "      <th>temperature_title</th>\n",
       "      <th>time_title</th>\n",
       "      <th>use_title</th>\n",
       "      <th>walks_title</th>\n",
       "      <th>water_title</th>\n",
       "      <th>whats_title</th>\n",
       "      <th>wife_title</th>\n",
       "      <th>work_title</th>\n",
       "    </tr>\n",
       "  </thead>\n",
       "  <tbody>\n",
       "    <tr>\n",
       "      <th>0</th>\n",
       "      <td>0.0</td>\n",
       "      <td>0.0</td>\n",
       "      <td>0.0</td>\n",
       "      <td>0.0</td>\n",
       "      <td>0.0</td>\n",
       "      <td>0.0</td>\n",
       "      <td>0.00000</td>\n",
       "      <td>0.0</td>\n",
       "      <td>0.0</td>\n",
       "      <td>0.000000</td>\n",
       "      <td>...</td>\n",
       "      <td>0.0</td>\n",
       "      <td>0.0</td>\n",
       "      <td>0.0</td>\n",
       "      <td>0.0</td>\n",
       "      <td>0.0</td>\n",
       "      <td>0.0</td>\n",
       "      <td>0.000000</td>\n",
       "      <td>0.0</td>\n",
       "      <td>0.0</td>\n",
       "      <td>0.0</td>\n",
       "    </tr>\n",
       "    <tr>\n",
       "      <th>1</th>\n",
       "      <td>0.0</td>\n",
       "      <td>0.0</td>\n",
       "      <td>0.0</td>\n",
       "      <td>0.0</td>\n",
       "      <td>0.0</td>\n",
       "      <td>0.0</td>\n",
       "      <td>0.00000</td>\n",
       "      <td>0.0</td>\n",
       "      <td>0.0</td>\n",
       "      <td>0.000000</td>\n",
       "      <td>...</td>\n",
       "      <td>0.0</td>\n",
       "      <td>0.0</td>\n",
       "      <td>0.0</td>\n",
       "      <td>0.0</td>\n",
       "      <td>0.0</td>\n",
       "      <td>0.0</td>\n",
       "      <td>0.000000</td>\n",
       "      <td>0.0</td>\n",
       "      <td>0.0</td>\n",
       "      <td>0.0</td>\n",
       "    </tr>\n",
       "    <tr>\n",
       "      <th>2</th>\n",
       "      <td>0.0</td>\n",
       "      <td>0.0</td>\n",
       "      <td>0.0</td>\n",
       "      <td>0.0</td>\n",
       "      <td>0.0</td>\n",
       "      <td>0.0</td>\n",
       "      <td>0.00000</td>\n",
       "      <td>0.0</td>\n",
       "      <td>0.0</td>\n",
       "      <td>0.000000</td>\n",
       "      <td>...</td>\n",
       "      <td>0.0</td>\n",
       "      <td>0.0</td>\n",
       "      <td>0.0</td>\n",
       "      <td>0.0</td>\n",
       "      <td>0.0</td>\n",
       "      <td>0.0</td>\n",
       "      <td>0.000000</td>\n",
       "      <td>0.0</td>\n",
       "      <td>0.0</td>\n",
       "      <td>0.0</td>\n",
       "    </tr>\n",
       "    <tr>\n",
       "      <th>3</th>\n",
       "      <td>0.0</td>\n",
       "      <td>0.0</td>\n",
       "      <td>0.0</td>\n",
       "      <td>0.0</td>\n",
       "      <td>0.0</td>\n",
       "      <td>0.0</td>\n",
       "      <td>0.00000</td>\n",
       "      <td>0.0</td>\n",
       "      <td>0.0</td>\n",
       "      <td>0.000000</td>\n",
       "      <td>...</td>\n",
       "      <td>0.0</td>\n",
       "      <td>0.0</td>\n",
       "      <td>0.0</td>\n",
       "      <td>0.0</td>\n",
       "      <td>0.0</td>\n",
       "      <td>0.0</td>\n",
       "      <td>0.000000</td>\n",
       "      <td>0.0</td>\n",
       "      <td>0.0</td>\n",
       "      <td>0.0</td>\n",
       "    </tr>\n",
       "    <tr>\n",
       "      <th>4</th>\n",
       "      <td>0.0</td>\n",
       "      <td>0.0</td>\n",
       "      <td>0.0</td>\n",
       "      <td>0.0</td>\n",
       "      <td>0.0</td>\n",
       "      <td>0.0</td>\n",
       "      <td>0.00000</td>\n",
       "      <td>0.0</td>\n",
       "      <td>0.0</td>\n",
       "      <td>0.000000</td>\n",
       "      <td>...</td>\n",
       "      <td>0.0</td>\n",
       "      <td>0.0</td>\n",
       "      <td>0.0</td>\n",
       "      <td>0.0</td>\n",
       "      <td>0.0</td>\n",
       "      <td>0.0</td>\n",
       "      <td>0.000000</td>\n",
       "      <td>0.0</td>\n",
       "      <td>0.0</td>\n",
       "      <td>1.0</td>\n",
       "    </tr>\n",
       "    <tr>\n",
       "      <th>...</th>\n",
       "      <td>...</td>\n",
       "      <td>...</td>\n",
       "      <td>...</td>\n",
       "      <td>...</td>\n",
       "      <td>...</td>\n",
       "      <td>...</td>\n",
       "      <td>...</td>\n",
       "      <td>...</td>\n",
       "      <td>...</td>\n",
       "      <td>...</td>\n",
       "      <td>...</td>\n",
       "      <td>...</td>\n",
       "      <td>...</td>\n",
       "      <td>...</td>\n",
       "      <td>...</td>\n",
       "      <td>...</td>\n",
       "      <td>...</td>\n",
       "      <td>...</td>\n",
       "      <td>...</td>\n",
       "      <td>...</td>\n",
       "      <td>...</td>\n",
       "    </tr>\n",
       "    <tr>\n",
       "      <th>932</th>\n",
       "      <td>0.0</td>\n",
       "      <td>0.0</td>\n",
       "      <td>0.0</td>\n",
       "      <td>0.0</td>\n",
       "      <td>0.0</td>\n",
       "      <td>0.0</td>\n",
       "      <td>0.00000</td>\n",
       "      <td>0.0</td>\n",
       "      <td>0.0</td>\n",
       "      <td>0.000000</td>\n",
       "      <td>...</td>\n",
       "      <td>0.0</td>\n",
       "      <td>0.0</td>\n",
       "      <td>0.0</td>\n",
       "      <td>0.0</td>\n",
       "      <td>0.0</td>\n",
       "      <td>0.0</td>\n",
       "      <td>0.000000</td>\n",
       "      <td>0.0</td>\n",
       "      <td>1.0</td>\n",
       "      <td>0.0</td>\n",
       "    </tr>\n",
       "    <tr>\n",
       "      <th>933</th>\n",
       "      <td>0.0</td>\n",
       "      <td>0.0</td>\n",
       "      <td>0.0</td>\n",
       "      <td>0.0</td>\n",
       "      <td>0.0</td>\n",
       "      <td>0.0</td>\n",
       "      <td>0.00000</td>\n",
       "      <td>0.0</td>\n",
       "      <td>0.0</td>\n",
       "      <td>1.000000</td>\n",
       "      <td>...</td>\n",
       "      <td>0.0</td>\n",
       "      <td>0.0</td>\n",
       "      <td>0.0</td>\n",
       "      <td>0.0</td>\n",
       "      <td>0.0</td>\n",
       "      <td>0.0</td>\n",
       "      <td>0.000000</td>\n",
       "      <td>0.0</td>\n",
       "      <td>0.0</td>\n",
       "      <td>0.0</td>\n",
       "    </tr>\n",
       "    <tr>\n",
       "      <th>934</th>\n",
       "      <td>0.0</td>\n",
       "      <td>0.0</td>\n",
       "      <td>0.0</td>\n",
       "      <td>0.0</td>\n",
       "      <td>0.0</td>\n",
       "      <td>0.0</td>\n",
       "      <td>0.55405</td>\n",
       "      <td>0.0</td>\n",
       "      <td>0.0</td>\n",
       "      <td>0.342064</td>\n",
       "      <td>...</td>\n",
       "      <td>0.0</td>\n",
       "      <td>0.0</td>\n",
       "      <td>1.0</td>\n",
       "      <td>0.0</td>\n",
       "      <td>0.0</td>\n",
       "      <td>0.0</td>\n",
       "      <td>0.000000</td>\n",
       "      <td>0.0</td>\n",
       "      <td>0.0</td>\n",
       "      <td>0.0</td>\n",
       "    </tr>\n",
       "    <tr>\n",
       "      <th>935</th>\n",
       "      <td>0.0</td>\n",
       "      <td>0.0</td>\n",
       "      <td>0.0</td>\n",
       "      <td>0.0</td>\n",
       "      <td>0.0</td>\n",
       "      <td>0.0</td>\n",
       "      <td>0.00000</td>\n",
       "      <td>0.0</td>\n",
       "      <td>0.0</td>\n",
       "      <td>0.000000</td>\n",
       "      <td>...</td>\n",
       "      <td>0.0</td>\n",
       "      <td>0.0</td>\n",
       "      <td>0.0</td>\n",
       "      <td>0.0</td>\n",
       "      <td>0.0</td>\n",
       "      <td>0.0</td>\n",
       "      <td>0.643239</td>\n",
       "      <td>0.0</td>\n",
       "      <td>0.0</td>\n",
       "      <td>0.0</td>\n",
       "    </tr>\n",
       "    <tr>\n",
       "      <th>936</th>\n",
       "      <td>0.0</td>\n",
       "      <td>0.0</td>\n",
       "      <td>0.0</td>\n",
       "      <td>0.0</td>\n",
       "      <td>0.0</td>\n",
       "      <td>0.0</td>\n",
       "      <td>0.00000</td>\n",
       "      <td>0.0</td>\n",
       "      <td>0.0</td>\n",
       "      <td>0.000000</td>\n",
       "      <td>...</td>\n",
       "      <td>0.0</td>\n",
       "      <td>0.0</td>\n",
       "      <td>0.0</td>\n",
       "      <td>0.0</td>\n",
       "      <td>0.0</td>\n",
       "      <td>0.0</td>\n",
       "      <td>0.000000</td>\n",
       "      <td>0.0</td>\n",
       "      <td>0.0</td>\n",
       "      <td>0.0</td>\n",
       "    </tr>\n",
       "  </tbody>\n",
       "</table>\n",
       "<p>937 rows × 60 columns</p>\n",
       "</div>"
      ],
      "text/plain": [
       "     actually_text  answer_text  body_text  day_text  did_text  \\\n",
       "0              0.0          0.0        0.0       0.0       0.0   \n",
       "1              0.0          0.0        0.0       0.0       0.0   \n",
       "2              0.0          0.0        0.0       0.0       0.0   \n",
       "3              0.0          0.0        0.0       0.0       0.0   \n",
       "4              0.0          0.0        0.0       0.0       0.0   \n",
       "..             ...          ...        ...       ...       ...   \n",
       "932            0.0          0.0        0.0       0.0       0.0   \n",
       "933            0.0          0.0        0.0       0.0       0.0   \n",
       "934            0.0          0.0        0.0       0.0       0.0   \n",
       "935            0.0          0.0        0.0       0.0       0.0   \n",
       "936            0.0          0.0        0.0       0.0       0.0   \n",
       "\n",
       "     different_text  does_text  dont_text  going_text  got_text  ...  \\\n",
       "0               0.0    0.00000        0.0         0.0  0.000000  ...   \n",
       "1               0.0    0.00000        0.0         0.0  0.000000  ...   \n",
       "2               0.0    0.00000        0.0         0.0  0.000000  ...   \n",
       "3               0.0    0.00000        0.0         0.0  0.000000  ...   \n",
       "4               0.0    0.00000        0.0         0.0  0.000000  ...   \n",
       "..              ...        ...        ...         ...       ...  ...   \n",
       "932             0.0    0.00000        0.0         0.0  0.000000  ...   \n",
       "933             0.0    0.00000        0.0         0.0  1.000000  ...   \n",
       "934             0.0    0.55405        0.0         0.0  0.342064  ...   \n",
       "935             0.0    0.00000        0.0         0.0  0.000000  ...   \n",
       "936             0.0    0.00000        0.0         0.0  0.000000  ...   \n",
       "\n",
       "     say_title  surface_title  temperature_title  time_title  use_title  \\\n",
       "0          0.0            0.0                0.0         0.0        0.0   \n",
       "1          0.0            0.0                0.0         0.0        0.0   \n",
       "2          0.0            0.0                0.0         0.0        0.0   \n",
       "3          0.0            0.0                0.0         0.0        0.0   \n",
       "4          0.0            0.0                0.0         0.0        0.0   \n",
       "..         ...            ...                ...         ...        ...   \n",
       "932        0.0            0.0                0.0         0.0        0.0   \n",
       "933        0.0            0.0                0.0         0.0        0.0   \n",
       "934        0.0            0.0                1.0         0.0        0.0   \n",
       "935        0.0            0.0                0.0         0.0        0.0   \n",
       "936        0.0            0.0                0.0         0.0        0.0   \n",
       "\n",
       "     walks_title  water_title  whats_title  wife_title  work_title  \n",
       "0            0.0     0.000000          0.0         0.0         0.0  \n",
       "1            0.0     0.000000          0.0         0.0         0.0  \n",
       "2            0.0     0.000000          0.0         0.0         0.0  \n",
       "3            0.0     0.000000          0.0         0.0         0.0  \n",
       "4            0.0     0.000000          0.0         0.0         1.0  \n",
       "..           ...          ...          ...         ...         ...  \n",
       "932          0.0     0.000000          0.0         1.0         0.0  \n",
       "933          0.0     0.000000          0.0         0.0         0.0  \n",
       "934          0.0     0.000000          0.0         0.0         0.0  \n",
       "935          0.0     0.643239          0.0         0.0         0.0  \n",
       "936          0.0     0.000000          0.0         0.0         0.0  \n",
       "\n",
       "[937 rows x 60 columns]"
      ]
     },
     "execution_count": 45,
     "metadata": {},
     "output_type": "execute_result"
    }
   ],
   "source": [
    "vecced_train_reddit_tvec_posts"
   ]
  },
  {
   "cell_type": "code",
   "execution_count": 46,
   "metadata": {},
   "outputs": [],
   "source": [
    "def run_the_mn_models(model):\n",
    "    \n",
    "    if model == 'mn_1':\n",
    "        \n",
    "        mn_params = {               #from the documention and online research, we play around with the params\n",
    "            'fit_prior': [True],\n",
    "            'alpha': np.arange(0, 1, 0.1)}\n",
    "        \n",
    "        GS = GridSearchCV(MultinomialNB(),\n",
    "                        mn_params,\n",
    "                        cv = 5,\n",
    "                        verbose = 1,\n",
    "                        n_jobs = -1)\n",
    "        \n",
    "    elif model == 'mn_2':\n",
    "        \n",
    "         mn_params = {\n",
    "            'fit_prior': [False],\n",
    "            'alpha': np.arange(0, 1, 0.1)}\n",
    "        \n",
    "         GS = GridSearchCV(MultinomialNB(),\n",
    "                        mn_params,\n",
    "                        cv = 5,\n",
    "                        verbose = 1,\n",
    "                        n_jobs = -1)\n",
    "        \n",
    "    else:\n",
    "        print('There is an error.')\n",
    "        \n",
    "    GS.fit(vecced_train_reddit_tvec_posts.values, y_train)\n",
    "     \n",
    "    print(f'Train score = {GS.score(vecced_train_reddit_tvec_posts.values, y_train)}')\n",
    "    print(f'Test score = {GS.score(vecced_test_reddit_tvec_posts.values, y_test)}')\n",
    "    \n",
    "    predictions = GS.predict(vecced_test_reddit_tvec_posts.values)\n",
    "    print('--------')\n",
    "    print(confusion_matrix(y_test, predictions))\n",
    "    tn, fp, fn, tp = confusion_matrix(y_test, predictions).ravel()\n",
    "    print(\"True Negatives: %s\" % tn)\n",
    "    print(\"False Positives: %s\" % fp)\n",
    "    print(\"False Negatives: %s\" % fn)\n",
    "    print(\"True Positives: %s\" % tp)\n",
    "    print(f'Best params = {GS.best_params_}')"
   ]
  },
  {
   "cell_type": "code",
   "execution_count": 47,
   "metadata": {},
   "outputs": [
    {
     "name": "stdout",
     "output_type": "stream",
     "text": [
      "Fitting 5 folds for each of 10 candidates, totalling 50 fits\n",
      "Train score = 0.7182497331910352\n",
      "Test score = 0.7092651757188498\n",
      "--------\n",
      "[[ 88  69]\n",
      " [ 22 134]]\n",
      "True Negatives: 88\n",
      "False Positives: 69\n",
      "False Negatives: 22\n",
      "True Positives: 134\n",
      "Best params = {'alpha': 0.9, 'fit_prior': True}\n"
     ]
    },
    {
     "name": "stderr",
     "output_type": "stream",
     "text": [
      "[Parallel(n_jobs=-1)]: Using backend LokyBackend with 16 concurrent workers.\n",
      "[Parallel(n_jobs=-1)]: Done  19 out of  50 | elapsed:    0.1s remaining:    0.1s\n",
      "[Parallel(n_jobs=-1)]: Done  50 out of  50 | elapsed:    0.1s finished\n"
     ]
    }
   ],
   "source": [
    "run_the_mn_models('mn_1')"
   ]
  },
  {
   "cell_type": "code",
   "execution_count": 48,
   "metadata": {
    "scrolled": true
   },
   "outputs": [
    {
     "name": "stdout",
     "output_type": "stream",
     "text": [
      "Fitting 5 folds for each of 10 candidates, totalling 50 fits\n"
     ]
    },
    {
     "name": "stderr",
     "output_type": "stream",
     "text": [
      "[Parallel(n_jobs=-1)]: Using backend LokyBackend with 16 concurrent workers.\n",
      "[Parallel(n_jobs=-1)]: Done  19 out of  50 | elapsed:    0.0s remaining:    0.1s\n"
     ]
    },
    {
     "name": "stdout",
     "output_type": "stream",
     "text": [
      "Train score = 0.8207043756670224\n",
      "Test score = 0.792332268370607\n",
      "--------\n",
      "[[130  27]\n",
      " [ 38 118]]\n",
      "True Negatives: 130\n",
      "False Positives: 27\n",
      "False Negatives: 38\n",
      "True Positives: 118\n",
      "Best params = {'alpha': 0.7000000000000001, 'fit_prior': False}\n"
     ]
    },
    {
     "name": "stderr",
     "output_type": "stream",
     "text": [
      "[Parallel(n_jobs=-1)]: Done  50 out of  50 | elapsed:    0.1s finished\n"
     ]
    }
   ],
   "source": [
    "run_the_mn_models('mn_2')"
   ]
  },
  {
   "cell_type": "code",
   "execution_count": 49,
   "metadata": {},
   "outputs": [],
   "source": [
    "## Multinomial model 2 performed better , having more TPs and TRUE negatives. Has a better test accuracy as well."
   ]
  },
  {
   "cell_type": "code",
   "execution_count": 50,
   "metadata": {},
   "outputs": [],
   "source": [
    "def run_the_lr_models(model):\n",
    "    \n",
    "    if model == 'lr_1':\n",
    "        \n",
    "        lr_1_params = {\n",
    "            'penalty': ['l1'], #ridge regressiom\n",
    "            'C': np.arange(1, 5, 0.1).tolist(),\n",
    "            'class_weight': ['balanced'],\n",
    "            'warm_start': [True, False],\n",
    "            'random_state': [42],\n",
    "            'solver': ['liblinear']}\n",
    "        \n",
    "        M = GridSearchCV(LogisticRegression(),\n",
    "                        lr_1_params,\n",
    "                        cv = 5,\n",
    "                        verbose = 1,\n",
    "                        n_jobs = -1)\n",
    "        \n",
    "    elif model == 'lr_2':\n",
    "        \n",
    "        lr_2_params = {\n",
    "            'penalty': ['l2'], #lasso regression\n",
    "            'C': np.arange(1, 5, 0.1).tolist(),\n",
    "            'class_weight': ['balanced'],\n",
    "            'warm_start': [True, False],            \n",
    "            'random_state': [42],\n",
    "            'solver': ['lbfgs', 'liblinear']}\n",
    "        \n",
    "        M = GridSearchCV(LogisticRegression(),\n",
    "                        lr_2_params,\n",
    "                        cv = 5,\n",
    "                        verbose = 1,\n",
    "                        n_jobs = -1)\n",
    "\n",
    "    else:\n",
    "        print('There is an error.')\n",
    "        \n",
    "\n",
    "    M.fit(vecced_train_reddit_tvec_posts.values, y_train)\n",
    "     \n",
    "    print(f'Train score = {M.score(vecced_train_reddit_tvec_posts.values, y_train)}')\n",
    "    print(f'Test score = {M.score(vecced_test_reddit_tvec_posts.values, y_test)}')\n",
    "    \n",
    "    predictions = M.predict(vecced_test_reddit_tvec_posts.values)\n",
    "    print('--------')\n",
    "    print(confusion_matrix(y_test, predictions))\n",
    "    tn, fp, fn, tp = confusion_matrix(y_test, predictions).ravel()\n",
    "    print(\"True Negatives: %s\" % tn)\n",
    "    print(\"False Positives: %s\" % fp)\n",
    "    print(\"False Negatives: %s\" % fn)\n",
    "    print(\"True Positives: %s\" % tp)\n",
    "    print(f'Best params = {M.best_params_}')"
   ]
  },
  {
   "cell_type": "code",
   "execution_count": 51,
   "metadata": {},
   "outputs": [
    {
     "name": "stdout",
     "output_type": "stream",
     "text": [
      "Fitting 5 folds for each of 80 candidates, totalling 400 fits\n"
     ]
    },
    {
     "name": "stderr",
     "output_type": "stream",
     "text": [
      "[Parallel(n_jobs=-1)]: Using backend LokyBackend with 16 concurrent workers.\n"
     ]
    },
    {
     "name": "stdout",
     "output_type": "stream",
     "text": [
      "Train score = 0.8537886872998933\n",
      "Test score = 0.7955271565495208\n",
      "--------\n",
      "[[133  24]\n",
      " [ 40 116]]\n",
      "True Negatives: 133\n",
      "False Positives: 24\n",
      "False Negatives: 40\n",
      "True Positives: 116\n",
      "Best params = {'C': 3.200000000000002, 'class_weight': 'balanced', 'penalty': 'l1', 'random_state': 42, 'solver': 'liblinear', 'warm_start': True}\n"
     ]
    },
    {
     "name": "stderr",
     "output_type": "stream",
     "text": [
      "[Parallel(n_jobs=-1)]: Done 400 out of 400 | elapsed:    0.4s finished\n"
     ]
    }
   ],
   "source": [
    "run_the_lr_models('lr_1')"
   ]
  },
  {
   "cell_type": "code",
   "execution_count": 52,
   "metadata": {},
   "outputs": [
    {
     "name": "stderr",
     "output_type": "stream",
     "text": [
      "[Parallel(n_jobs=-1)]: Using backend LokyBackend with 16 concurrent workers.\n",
      "[Parallel(n_jobs=-1)]: Done  18 tasks      | elapsed:    0.1s\n"
     ]
    },
    {
     "name": "stdout",
     "output_type": "stream",
     "text": [
      "Fitting 5 folds for each of 160 candidates, totalling 800 fits\n",
      "Train score = 0.8495197438633938\n",
      "Test score = 0.7987220447284346\n",
      "--------\n",
      "[[133  24]\n",
      " [ 39 117]]\n",
      "True Negatives: 133\n",
      "False Positives: 24\n",
      "False Negatives: 39\n",
      "True Positives: 117\n",
      "Best params = {'C': 1.8000000000000007, 'class_weight': 'balanced', 'penalty': 'l2', 'random_state': 42, 'solver': 'liblinear', 'warm_start': True}\n"
     ]
    },
    {
     "name": "stderr",
     "output_type": "stream",
     "text": [
      "[Parallel(n_jobs=-1)]: Done 800 out of 800 | elapsed:    1.2s finished\n"
     ]
    }
   ],
   "source": [
    "run_the_lr_models('lr_2')"
   ]
  },
  {
   "cell_type": "code",
   "execution_count": 53,
   "metadata": {},
   "outputs": [],
   "source": [
    "# Log reg 1 & 2 performed similarly  regardless of params, hence we can pick either one to compare with our mn model 2"
   ]
  },
  {
   "cell_type": "markdown",
   "metadata": {},
   "source": [
    "## Findings and Conclusions"
   ]
  },
  {
   "cell_type": "markdown",
   "metadata": {},
   "source": [
    "By comparing all models it was shown that our TF-IDF with MultinomialNB model has the best performance based on \n",
    "<br>1) A more stable accuracy score from train to test \n",
    "<br>2) An accuuracy that is not too high, suggesting that our model is not overfit, and quite generalised\n",
    "\n",
    "<br>We are predicting words from the Jokes subreddit 42% of the time!\n",
    "<br>Misclassifying words only 20% of the time.\n",
    "\n",
    "<br>Below we plotted the ROC curve to show our models effectiveness."
   ]
  },
  {
   "cell_type": "code",
   "execution_count": 65,
   "metadata": {},
   "outputs": [],
   "source": [
    "def plot_roc_curve(fpr, tpr):\n",
    "    plt.plot(fpr, tpr, color='orange', label='ROC')\n",
    "    plt.plot([0, 1], [0, 1], color='darkblue', linestyle='--')\n",
    "    plt.xlabel('1-Specificity')\n",
    "    plt.ylabel('Sensitivity')\n",
    "    plt.title('Receiver Operating Characteristic (ROC) Curve')\n",
    "    plt.legend()\n",
    "    plt.show()"
   ]
  },
  {
   "cell_type": "code",
   "execution_count": 66,
   "metadata": {},
   "outputs": [
    {
     "data": {
      "text/plain": [
       "MultinomialNB(alpha=0.7000000000000001, class_prior=None, fit_prior=False)"
      ]
     },
     "execution_count": 66,
     "metadata": {},
     "output_type": "execute_result"
    }
   ],
   "source": [
    "model = MultinomialNB(fit_prior=False,alpha=0.7000000000000001)\n",
    "model.fit(vecced_train_reddit_tvec_posts.values, y_train)"
   ]
  },
  {
   "cell_type": "code",
   "execution_count": 78,
   "metadata": {},
   "outputs": [],
   "source": [
    "probs = model.predict_proba(vecced_test_reddit_tvec_posts)\n",
    "probs = probs[:, 1]"
   ]
  },
  {
   "cell_type": "code",
   "execution_count": 79,
   "metadata": {},
   "outputs": [
    {
     "name": "stdout",
     "output_type": "stream",
     "text": [
      "AUC: 0.86\n"
     ]
    }
   ],
   "source": [
    "auc = roc_auc_score(y_test, probs)\n",
    "print('AUC: %.2f' % auc)"
   ]
  },
  {
   "cell_type": "code",
   "execution_count": 73,
   "metadata": {},
   "outputs": [],
   "source": [
    "fpr, tpr, thresholds = roc_curve(y_test, probs)"
   ]
  },
  {
   "cell_type": "code",
   "execution_count": 74,
   "metadata": {},
   "outputs": [
    {
     "data": {
      "image/png": "[encoded data removed]",
      "text/plain": [
       "<Figure size 432x288 with 1 Axes>"
      ]
     },
     "metadata": {
      "needs_background": "light"
     },
     "output_type": "display_data"
    }
   ],
   "source": [
    "plot_roc_curve(fpr, tpr)"
   ]
  },
  {
   "cell_type": "markdown",
   "metadata": {},
   "source": [
    "From our ROC curve, the AUC for this model is 0.86. The closer the AUC is to one, the more effective a model it is.\n",
    "<br>As such, model does quite a good job of distinguishing the positive and the negative values."
   ]
  },
  {
   "cell_type": "code",
   "execution_count": null,
   "metadata": {},
   "outputs": [],
   "source": []
  },
  {
   "cell_type": "code",
   "execution_count": null,
   "metadata": {},
   "outputs": [],
   "source": []
  },
  {
   "cell_type": "code",
   "execution_count": null,
   "metadata": {},
   "outputs": [],
   "source": []
  },
  {
   "cell_type": "markdown",
   "metadata": {},
   "source": [
    "In conclusion, our model proved to be quite effective in classifying words from both subreddits. \n",
    "This model relies on both the words in sub-text as well as the title.\n",
    "future works could maybe delve into looking into building separate models for sub-text as well as titles.\n",
    "Moreover, these models have to constantly be retrained, due to the emergence of new urban words, abbreviations. They may or may not be relaterd to ASKSCIENCE, and simply throwing them out will just make future models less accurate"
   ]
  },
  {
   "cell_type": "code",
   "execution_count": null,
   "metadata": {},
   "outputs": [],
   "source": []
  }
 ],
 "metadata": {
  "kernelspec": {
   "display_name": "Python 3",
   "language": "python",
   "name": "python3"
  },
  "language_info": {
   "codemirror_mode": {
    "name": "ipython",
    "version": 3
   },
   "file_extension": ".py",
   "mimetype": "text/x-python",
   "name": "python",
   "nbconvert_exporter": "python",
   "pygments_lexer": "ipython3",
   "version": "3.7.3"
  }
 },
 "nbformat": 4,
 "nbformat_minor": 2
}
